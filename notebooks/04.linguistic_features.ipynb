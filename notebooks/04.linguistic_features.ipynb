{
 "cells": [
  {
   "cell_type": "markdown",
   "id": "34f6f697",
   "metadata": {},
   "source": [
    "<br>\n",
    "<u>Notebook Four</u> | \n",
    "<a href=https://github.com/andrealeone/NLP target=_blank>Repository</a>\n",
    "<br><br>\n",
    "<b>Linguistic features</b><br><br>\n",
    "Andrea Leone<br>\n",
    "University of Trento<br>\n",
    "February 2022\n",
    "<br><br>"
   ]
  },
  {
   "cell_type": "code",
   "execution_count": 1,
   "id": "42cb51af",
   "metadata": {},
   "outputs": [],
   "source": [
    "import project \n",
    "\n",
    "import spacy\n",
    "import numpy  as np\n",
    "import pandas as pd\n",
    "import pickle\n",
    "import os\n",
    "\n",
    "from tqdm.notebook import tqdm"
   ]
  },
  {
   "cell_type": "code",
   "execution_count": 2,
   "id": "681190de",
   "metadata": {},
   "outputs": [],
   "source": [
    "records = project.sql_query(\"\"\" \n",
    "    SELECT * FROM talks\n",
    "    WHERE transcript IS NOT NULL\n",
    "    ORDER BY slug ASC;\n",
    "\"\"\")\n",
    "\n",
    "df = project.create_dataframe_from(records) "
   ]
  },
  {
   "cell_type": "markdown",
   "id": "add51199",
   "metadata": {},
   "source": [
    "<br>"
   ]
  },
  {
   "cell_type": "markdown",
   "id": "6e1cd897",
   "metadata": {},
   "source": [
    "Load the \"classic\" English `nlp` [pre-trained language processing pipeline](https://spacy.io/models/en#en_core_web_lg), optimised for CPU. Like in the first notebook, the pipeline ingests a raw string, i.e. the talk transcript, and returns a `spaCy.Doc` object that comprises the result of several different steps.\n",
    "<br><img src=\"https://spacy.io/pipeline-design-46d249f6f048cda4c8a8f8147d332bb5.svg\" alt=\"SpaCy NLP pipeline\" width=\"75%\"><br>"
   ]
  },
  {
   "cell_type": "markdown",
   "id": "8ce98829",
   "metadata": {},
   "source": [
    "<b>Features</b>\n",
    " * <b>Tokenisation</b>: Segmenting text into words, punctuations marks etc.\n",
    " * <b>Part-of-speech (POS) Tagging</b>: Assigning word types to tokens, like verb or noun.\n",
    " * <b>Dependency Parsing</b>: Assigning syntactic dependency labels, describing the relations between individual tokens, like subject or object.\n",
    " * <b>Lemmatization</b>: Assigning the base forms of words. For example, the lemma of “was” is “be”, and the lemma of “mice” is “mouse”.\n",
    " * <b>Sentence Boundary Detection (SBD)</b>: Finding and segmenting individual sentences.\n",
    " * <b>Named Entity Recognition (NER)</b>: Labelling named “real-world” objects, like persons, companies or locations.\n",
    " * <b>Entity Linking (EL)</b>: Disambiguating textual entities to unique identifiers in a knowledge base.\n",
    " * <b>Similarity</b>: Comparing words, text spans and documents and how similar they are to each other.\n",
    " * <b>Text Classification</b>: Assigning categories or labels to a whole document, or parts of a document.\n",
    " * <b>Rule-based Matching</b>: Finding sequences of tokens based on their texts and linguistic annotations, similar to regular expressions.\n",
    " * <b>Training</b>: Updating and improving a statistical model’s predictions.\n",
    " * <b>Serialization</b>: Saving objects to files or byte strings.\n",
    "<br>"
   ]
  },
  {
   "cell_type": "markdown",
   "id": "891f34ad",
   "metadata": {},
   "source": [
    "<b>Statistical models</b>\n",
    "While some of SpaCy’s features work independently, others require trained pipelines to be loaded, enabling SpaCy to predict linguistic annotations. A trained pipeline can consist of multiple components that use a statistical model trained on labeled data, like in the case of `en_core_web_lg`. It includes the following components:\n",
    " * <b>Binary weights</b> for the part-of-speech tagger, dependency parser and named entity recognizer to predict those annotations in context.\n",
    " * <b>Lexical entries</b> in the vocabulary, i.e. words and their context-independent attributes like the shape or spelling.\n",
    " * <b>Data files</b> like lemmatization rules and lookup tables.\n",
    " * <b>Word vectors</b>, i.e. multi-dimensional meaning representations of words that let you determine how similar they are to each other.\n",
    " * <b>Configuration options</b>, like the language and processing pipeline settings and model implementations to use, to put SpaCy in the correct state when you load the pipeline."
   ]
  },
  {
   "cell_type": "markdown",
   "id": "3dd33798",
   "metadata": {},
   "source": [
    "<br>\n",
    "Load the pipeline."
   ]
  },
  {
   "cell_type": "code",
   "execution_count": 3,
   "id": "c772c80d",
   "metadata": {},
   "outputs": [],
   "source": [
    "nlp = spacy.load(\"en_core_web_lg\") "
   ]
  },
  {
   "cell_type": "markdown",
   "id": "5c111be8",
   "metadata": {},
   "source": [
    "<br>\n",
    "Process all transcripts."
   ]
  },
  {
   "cell_type": "code",
   "execution_count": 4,
   "id": "407f7adc",
   "metadata": {},
   "outputs": [
    {
     "data": {
      "application/vnd.jupyter.widget-view+json": {
       "model_id": "a4040951bef64a10a56b63e3f422fc91",
       "version_major": 2,
       "version_minor": 0
      },
      "text/plain": [
       "  0%|          | 0/4828 [00:00<?, ?it/s]"
      ]
     },
     "metadata": {},
     "output_type": "display_data"
    }
   ],
   "source": [
    "docs_pkl = \"data/docs.v4.pkl\" \n",
    "\n",
    "if not os.path.exists( docs_pkl ): \n",
    "\n",
    "    docs = list() \n",
    "\n",
    "    for _,record in tqdm( list(df.iterrows()) ):\n",
    "        docs.append( nlp( record[\"transcript\"] ) )\n",
    "\n",
    "    with open( docs_pkl, \"wb\" ) as file: \n",
    "        pickle.dump(docs, file)\n",
    "\n",
    "else: \n",
    "\n",
    "    with open( docs_pkl, \"rb\" ) as file: \n",
    "        docs = pickle.load(file)"
   ]
  },
  {
   "cell_type": "markdown",
   "id": "8bfe73d7",
   "metadata": {},
   "source": [
    "<br>"
   ]
  },
  {
   "cell_type": "markdown",
   "id": "50576106",
   "metadata": {},
   "source": [
    "Sample the pipeline, on an excerpt of [Dave Isay's talk](https://www.ted.com/talks/dave_isay_everyone_around_you_has_a_story_the_world_needs_to_hear)"
   ]
  },
  {
   "cell_type": "code",
   "execution_count": 5,
   "id": "31c418f3",
   "metadata": {},
   "outputs": [],
   "source": [
    "doc = nlp(\"\"\" \n",
    "    I have learned about the poetry and the wisdom and the grace \n",
    "    that can be found in the words of people all around us \n",
    "    when we simply take the time to listen.\n",
    "\"\"\")"
   ]
  },
  {
   "cell_type": "markdown",
   "id": "65e83cd9",
   "metadata": {},
   "source": [
    "<br>"
   ]
  },
  {
   "cell_type": "markdown",
   "id": "e4e21983",
   "metadata": {},
   "source": [
    "<b>Tokenisation</b>"
   ]
  },
  {
   "cell_type": "markdown",
   "id": "d7ff2c2f",
   "metadata": {},
   "source": [
    "The first step in the process is tokenising the text: SpaCy segments it into words, punctuation and so on. This is done by applying rules specific to each language. First, the raw text is split on whitespace characters, similar to `text.split(' ')`. Then, the tokenizer processes the text from left to right. On each substring, it performs two checks:\n",
    " 1. <b>Does the substring match a tokenizer exception rule?</b> For example, “don’t” does not contain whitespace, but should be split into two tokens, “do” and “n’t”, while “U.K.” should always remain one token.\n",
    " 2. <b>Can a prefix, suffix or infix be split off?</b> For example punctuation like commas, periods, hyphens or quotes."
   ]
  },
  {
   "cell_type": "markdown",
   "id": "98d2e744",
   "metadata": {},
   "source": [
    "If there is a match, the rule is applied and the tokenizer continues its loop, starting with the newly split substrings. This way, SpaCy can split complex, nested tokens like combinations of abbreviations and multiple punctuation marks.<br>\n",
    "<img src=\"https://spacy.io/tokenization-9b27c0f6fe98dcb26239eba4d3ba1f3d.svg\" alt=\"SpaCy Tokenization\" width=\"50%\">"
   ]
  },
  {
   "cell_type": "markdown",
   "id": "7e1a75d3",
   "metadata": {},
   "source": [
    "<br>"
   ]
  },
  {
   "cell_type": "markdown",
   "id": "04bb3488",
   "metadata": {},
   "source": [
    "<b>Linguistic annotations</b>"
   ]
  },
  {
   "cell_type": "markdown",
   "id": "769784b5",
   "metadata": {},
   "source": [
    "SpaCy provides a variety of linguistic annotations to give insights into a text’s grammatical structure. This includes the word types, like the parts of speech, and how the words are related to each other. For example, if we are analyzing text, it makes a huge difference whether a noun is the subject of a sentence, or the object – or whether “google” is used as a verb, or refers to the website or company in a specific context."
   ]
  },
  {
   "cell_type": "markdown",
   "id": "445f9740",
   "metadata": {},
   "source": [
    "Extract and show annotations for each token in the sample"
   ]
  },
  {
   "cell_type": "code",
   "execution_count": 6,
   "id": "1a492b51",
   "metadata": {},
   "outputs": [
    {
     "name": "stdout",
     "output_type": "stream",
     "text": [
      "        Part-of-Speech  Tag Dependency Shape   Lemma   Stop\n",
      "                                                           \n",
      "I                 PRON  PRP      nsubj     X       I   True\n",
      "have               AUX  VBP        aux  xxxx    have   True\n",
      "learned           VERB  VBN       ROOT  xxxx   learn  False\n",
      "about              ADP   IN       prep  xxxx   about   True\n",
      "the                DET   DT        det   xxx     the   True\n",
      "poetry            NOUN   NN       pobj  xxxx  poetry  False\n",
      "and              CCONJ   CC         cc   xxx     and   True\n",
      "the                DET   DT        det   xxx     the   True\n",
      "wisdom            NOUN   NN       conj  xxxx  wisdom  False\n",
      "and              CCONJ   CC         cc   xxx     and   True\n",
      "the                DET   DT        det   xxx     the   True\n",
      "grace             NOUN   NN       conj  xxxx   grace  False\n",
      "that              PRON  WDT  nsubjpass  xxxx    that   True\n",
      "can                AUX   MD        aux   xxx     can   True\n",
      "be                 AUX   VB    auxpass    xx      be   True\n",
      "found             VERB  VBN      relcl  xxxx    find  False\n",
      "in                 ADP   IN       prep    xx      in   True\n",
      "the                DET   DT        det   xxx     the   True\n",
      "words             NOUN  NNS       pobj  xxxx    word  False\n",
      "of                 ADP   IN       prep    xx      of   True\n",
      "people            NOUN  NNS       pobj  xxxx  people  False\n",
      "all                ADV   RB     advmod   xxx     all   True\n",
      "around             ADP   IN       prep  xxxx  around   True\n",
      "us                PRON  PRP   compound    xx      we   True\n",
      "when             SCONJ  WRB     advmod  xxxx    when   True\n",
      "we                PRON  PRP      nsubj    xx      we   True\n",
      "simply             ADV   RB     advmod  xxxx  simply  False\n",
      "take              VERB  VBP      advcl  xxxx    take   True\n",
      "the                DET   DT        det   xxx     the   True\n",
      "time              NOUN   NN       dobj  xxxx    time  False\n",
      "to                PART   TO        aux    xx      to   True\n",
      "listen            VERB   VB      relcl  xxxx  listen  False\n"
     ]
    }
   ],
   "source": [
    "ladf = pd.DataFrame([ \n",
    "    [\n",
    "        token.text, token.pos_, token.tag_, token.dep_,\n",
    "        token.shape_, token.lemma_, token.is_stop\n",
    "    ] for token in doc if token.pos_ not in [\"SPACE\", \"PUNCT\"]\n",
    "], columns = [\n",
    "    \"\", \"Part-of-Speech\", \"Tag\", \"Dependency\", \"Shape\", \"Lemma\", \"Stop\"\n",
    "])\n",
    "\n",
    "ladf = ladf.set_index(\"\")\n",
    "ladf.drop_duplicates()\n",
    "print(ladf)"
   ]
  },
  {
   "cell_type": "markdown",
   "id": "47fec758",
   "metadata": {},
   "source": [
    "<br>"
   ]
  },
  {
   "cell_type": "markdown",
   "id": "ffb9f23c",
   "metadata": {},
   "source": [
    "<b>Morphological Features</b>"
   ]
  },
  {
   "cell_type": "markdown",
   "id": "019fe186",
   "metadata": {},
   "source": [
    "Inflectional morphology is the process by which a root form of a word is modified by adding prefixes or suffixes that specify its grammatical function but do not change its part-of-speech."
   ]
  },
  {
   "cell_type": "code",
   "execution_count": 7,
   "id": "491e5d28",
   "metadata": {},
   "outputs": [
    {
     "name": "stdout",
     "output_type": "stream",
     "text": [
      "                                Morphological features\n",
      "                                                      \n",
      "I        Case=Nom, Number=Sing, Person=1, PronType=Prs\n",
      "have                Mood=Ind, Tense=Pres, VerbForm=Fin\n",
      "learned         Aspect=Perf, Tense=Past, VerbForm=Part\n",
      "the                         Definite=Def, PronType=Art\n",
      "poetry                                     Number=Sing\n",
      "and                                       ConjType=Cmp\n",
      "the                         Definite=Def, PronType=Art\n",
      "wisdom                                     Number=Sing\n",
      "and                                       ConjType=Cmp\n",
      "the                         Definite=Def, PronType=Art\n",
      "grace                                      Number=Sing\n",
      "that                                      PronType=Rel\n",
      "can                                       VerbForm=Fin\n",
      "be                                        VerbForm=Inf\n",
      "found           Aspect=Perf, Tense=Past, VerbForm=Part\n",
      "the                         Definite=Def, PronType=Art\n",
      "words                                      Number=Plur\n",
      "people                                     Number=Plur\n",
      "us       Case=Acc, Number=Plur, Person=1, PronType=Prs\n",
      "we       Case=Nom, Number=Plur, Person=1, PronType=Prs\n",
      "take                          Tense=Pres, VerbForm=Fin\n",
      "the                         Definite=Def, PronType=Art\n",
      "time                                       Number=Sing\n",
      "listen                                    VerbForm=Inf\n"
     ]
    }
   ],
   "source": [
    "mfdf = pd.DataFrame([ \n",
    "    [\n",
    "        token.text, str(token.morph).replace(\"|\", \", \")\n",
    "    ] for token in doc if token.pos_ not in [\"SPACE\", \"PUNCT\"] and not token.morph.to_dict() == {}\n",
    "], columns = [ \"\", \"Morphological features\" ])\n",
    "\n",
    "mfdf = mfdf.set_index(\"\")\n",
    "print(mfdf)"
   ]
  },
  {
   "cell_type": "markdown",
   "id": "84f2851c",
   "metadata": {},
   "source": [
    "<br>"
   ]
  },
  {
   "cell_type": "markdown",
   "id": "4e335aee",
   "metadata": {},
   "source": [
    "<b>Linguistic dependencies</b>"
   ]
  },
  {
   "cell_type": "markdown",
   "id": "4da5600c",
   "metadata": {},
   "source": [
    "Visualizing a dependency parse or named entities in a text is not only a fun NLP demo – it can also be incredibly helpful in speeding up development and debugging your code and training process. Displacy spins up a simple web server and enables us to view the result straight in the notebook."
   ]
  },
  {
   "cell_type": "code",
   "execution_count": 8,
   "id": "7d4c73cd",
   "metadata": {},
   "outputs": [
    {
     "data": {
      "text/html": [
       "<span class=\"tex2jax_ignore\"><svg xmlns=\"http://www.w3.org/2000/svg\" xmlns:xlink=\"http://www.w3.org/1999/xlink\" xml:lang=\"en\" id=\"021aea82fecb4985aeedfbc317690bfd-0\" class=\"displacy\" width=\"6000\" height=\"574.5\" direction=\"ltr\" style=\"max-width: none; height: 574.5px; color: #000000; background: transparent; font-family: Arial; direction: ltr\">\n",
       "<text class=\"displacy-token\" fill=\"currentColor\" text-anchor=\"middle\" y=\"484.5\">\n",
       "    <tspan class=\"displacy-word\" fill=\"currentColor\" x=\"50\">I</tspan>\n",
       "    <tspan class=\"displacy-tag\" dy=\"2em\" fill=\"currentColor\" x=\"50\">PRON</tspan>\n",
       "</text>\n",
       "\n",
       "<text class=\"displacy-token\" fill=\"currentColor\" text-anchor=\"middle\" y=\"484.5\">\n",
       "    <tspan class=\"displacy-word\" fill=\"currentColor\" x=\"225\">have</tspan>\n",
       "    <tspan class=\"displacy-tag\" dy=\"2em\" fill=\"currentColor\" x=\"225\">AUX</tspan>\n",
       "</text>\n",
       "\n",
       "<text class=\"displacy-token\" fill=\"currentColor\" text-anchor=\"middle\" y=\"484.5\">\n",
       "    <tspan class=\"displacy-word\" fill=\"currentColor\" x=\"400\">learned</tspan>\n",
       "    <tspan class=\"displacy-tag\" dy=\"2em\" fill=\"currentColor\" x=\"400\">VERB</tspan>\n",
       "</text>\n",
       "\n",
       "<text class=\"displacy-token\" fill=\"currentColor\" text-anchor=\"middle\" y=\"484.5\">\n",
       "    <tspan class=\"displacy-word\" fill=\"currentColor\" x=\"575\">about</tspan>\n",
       "    <tspan class=\"displacy-tag\" dy=\"2em\" fill=\"currentColor\" x=\"575\">ADP</tspan>\n",
       "</text>\n",
       "\n",
       "<text class=\"displacy-token\" fill=\"currentColor\" text-anchor=\"middle\" y=\"484.5\">\n",
       "    <tspan class=\"displacy-word\" fill=\"currentColor\" x=\"750\">the</tspan>\n",
       "    <tspan class=\"displacy-tag\" dy=\"2em\" fill=\"currentColor\" x=\"750\">DET</tspan>\n",
       "</text>\n",
       "\n",
       "<text class=\"displacy-token\" fill=\"currentColor\" text-anchor=\"middle\" y=\"484.5\">\n",
       "    <tspan class=\"displacy-word\" fill=\"currentColor\" x=\"925\">poetry</tspan>\n",
       "    <tspan class=\"displacy-tag\" dy=\"2em\" fill=\"currentColor\" x=\"925\">NOUN</tspan>\n",
       "</text>\n",
       "\n",
       "<text class=\"displacy-token\" fill=\"currentColor\" text-anchor=\"middle\" y=\"484.5\">\n",
       "    <tspan class=\"displacy-word\" fill=\"currentColor\" x=\"1100\">and</tspan>\n",
       "    <tspan class=\"displacy-tag\" dy=\"2em\" fill=\"currentColor\" x=\"1100\">CCONJ</tspan>\n",
       "</text>\n",
       "\n",
       "<text class=\"displacy-token\" fill=\"currentColor\" text-anchor=\"middle\" y=\"484.5\">\n",
       "    <tspan class=\"displacy-word\" fill=\"currentColor\" x=\"1275\">the</tspan>\n",
       "    <tspan class=\"displacy-tag\" dy=\"2em\" fill=\"currentColor\" x=\"1275\">DET</tspan>\n",
       "</text>\n",
       "\n",
       "<text class=\"displacy-token\" fill=\"currentColor\" text-anchor=\"middle\" y=\"484.5\">\n",
       "    <tspan class=\"displacy-word\" fill=\"currentColor\" x=\"1450\">wisdom</tspan>\n",
       "    <tspan class=\"displacy-tag\" dy=\"2em\" fill=\"currentColor\" x=\"1450\">NOUN</tspan>\n",
       "</text>\n",
       "\n",
       "<text class=\"displacy-token\" fill=\"currentColor\" text-anchor=\"middle\" y=\"484.5\">\n",
       "    <tspan class=\"displacy-word\" fill=\"currentColor\" x=\"1625\">and</tspan>\n",
       "    <tspan class=\"displacy-tag\" dy=\"2em\" fill=\"currentColor\" x=\"1625\">CCONJ</tspan>\n",
       "</text>\n",
       "\n",
       "<text class=\"displacy-token\" fill=\"currentColor\" text-anchor=\"middle\" y=\"484.5\">\n",
       "    <tspan class=\"displacy-word\" fill=\"currentColor\" x=\"1800\">the</tspan>\n",
       "    <tspan class=\"displacy-tag\" dy=\"2em\" fill=\"currentColor\" x=\"1800\">DET</tspan>\n",
       "</text>\n",
       "\n",
       "<text class=\"displacy-token\" fill=\"currentColor\" text-anchor=\"middle\" y=\"484.5\">\n",
       "    <tspan class=\"displacy-word\" fill=\"currentColor\" x=\"1975\">grace</tspan>\n",
       "    <tspan class=\"displacy-tag\" dy=\"2em\" fill=\"currentColor\" x=\"1975\">NOUN</tspan>\n",
       "</text>\n",
       "\n",
       "<text class=\"displacy-token\" fill=\"currentColor\" text-anchor=\"middle\" y=\"484.5\">\n",
       "    <tspan class=\"displacy-word\" fill=\"currentColor\" x=\"2150\">\n",
       "    </tspan>\n",
       "    <tspan class=\"displacy-tag\" dy=\"2em\" fill=\"currentColor\" x=\"2150\">SPACE</tspan>\n",
       "</text>\n",
       "\n",
       "<text class=\"displacy-token\" fill=\"currentColor\" text-anchor=\"middle\" y=\"484.5\">\n",
       "    <tspan class=\"displacy-word\" fill=\"currentColor\" x=\"2325\">that</tspan>\n",
       "    <tspan class=\"displacy-tag\" dy=\"2em\" fill=\"currentColor\" x=\"2325\">PRON</tspan>\n",
       "</text>\n",
       "\n",
       "<text class=\"displacy-token\" fill=\"currentColor\" text-anchor=\"middle\" y=\"484.5\">\n",
       "    <tspan class=\"displacy-word\" fill=\"currentColor\" x=\"2500\">can</tspan>\n",
       "    <tspan class=\"displacy-tag\" dy=\"2em\" fill=\"currentColor\" x=\"2500\">AUX</tspan>\n",
       "</text>\n",
       "\n",
       "<text class=\"displacy-token\" fill=\"currentColor\" text-anchor=\"middle\" y=\"484.5\">\n",
       "    <tspan class=\"displacy-word\" fill=\"currentColor\" x=\"2675\">be</tspan>\n",
       "    <tspan class=\"displacy-tag\" dy=\"2em\" fill=\"currentColor\" x=\"2675\">AUX</tspan>\n",
       "</text>\n",
       "\n",
       "<text class=\"displacy-token\" fill=\"currentColor\" text-anchor=\"middle\" y=\"484.5\">\n",
       "    <tspan class=\"displacy-word\" fill=\"currentColor\" x=\"2850\">found</tspan>\n",
       "    <tspan class=\"displacy-tag\" dy=\"2em\" fill=\"currentColor\" x=\"2850\">VERB</tspan>\n",
       "</text>\n",
       "\n",
       "<text class=\"displacy-token\" fill=\"currentColor\" text-anchor=\"middle\" y=\"484.5\">\n",
       "    <tspan class=\"displacy-word\" fill=\"currentColor\" x=\"3025\">in</tspan>\n",
       "    <tspan class=\"displacy-tag\" dy=\"2em\" fill=\"currentColor\" x=\"3025\">ADP</tspan>\n",
       "</text>\n",
       "\n",
       "<text class=\"displacy-token\" fill=\"currentColor\" text-anchor=\"middle\" y=\"484.5\">\n",
       "    <tspan class=\"displacy-word\" fill=\"currentColor\" x=\"3200\">the</tspan>\n",
       "    <tspan class=\"displacy-tag\" dy=\"2em\" fill=\"currentColor\" x=\"3200\">DET</tspan>\n",
       "</text>\n",
       "\n",
       "<text class=\"displacy-token\" fill=\"currentColor\" text-anchor=\"middle\" y=\"484.5\">\n",
       "    <tspan class=\"displacy-word\" fill=\"currentColor\" x=\"3375\">words</tspan>\n",
       "    <tspan class=\"displacy-tag\" dy=\"2em\" fill=\"currentColor\" x=\"3375\">NOUN</tspan>\n",
       "</text>\n",
       "\n",
       "<text class=\"displacy-token\" fill=\"currentColor\" text-anchor=\"middle\" y=\"484.5\">\n",
       "    <tspan class=\"displacy-word\" fill=\"currentColor\" x=\"3550\">of</tspan>\n",
       "    <tspan class=\"displacy-tag\" dy=\"2em\" fill=\"currentColor\" x=\"3550\">ADP</tspan>\n",
       "</text>\n",
       "\n",
       "<text class=\"displacy-token\" fill=\"currentColor\" text-anchor=\"middle\" y=\"484.5\">\n",
       "    <tspan class=\"displacy-word\" fill=\"currentColor\" x=\"3725\">people</tspan>\n",
       "    <tspan class=\"displacy-tag\" dy=\"2em\" fill=\"currentColor\" x=\"3725\">NOUN</tspan>\n",
       "</text>\n",
       "\n",
       "<text class=\"displacy-token\" fill=\"currentColor\" text-anchor=\"middle\" y=\"484.5\">\n",
       "    <tspan class=\"displacy-word\" fill=\"currentColor\" x=\"3900\">all</tspan>\n",
       "    <tspan class=\"displacy-tag\" dy=\"2em\" fill=\"currentColor\" x=\"3900\">ADV</tspan>\n",
       "</text>\n",
       "\n",
       "<text class=\"displacy-token\" fill=\"currentColor\" text-anchor=\"middle\" y=\"484.5\">\n",
       "    <tspan class=\"displacy-word\" fill=\"currentColor\" x=\"4075\">around</tspan>\n",
       "    <tspan class=\"displacy-tag\" dy=\"2em\" fill=\"currentColor\" x=\"4075\">ADP</tspan>\n",
       "</text>\n",
       "\n",
       "<text class=\"displacy-token\" fill=\"currentColor\" text-anchor=\"middle\" y=\"484.5\">\n",
       "    <tspan class=\"displacy-word\" fill=\"currentColor\" x=\"4250\">us</tspan>\n",
       "    <tspan class=\"displacy-tag\" dy=\"2em\" fill=\"currentColor\" x=\"4250\">PRON</tspan>\n",
       "</text>\n",
       "\n",
       "<text class=\"displacy-token\" fill=\"currentColor\" text-anchor=\"middle\" y=\"484.5\">\n",
       "    <tspan class=\"displacy-word\" fill=\"currentColor\" x=\"4425\">\n",
       "    </tspan>\n",
       "    <tspan class=\"displacy-tag\" dy=\"2em\" fill=\"currentColor\" x=\"4425\">SPACE</tspan>\n",
       "</text>\n",
       "\n",
       "<text class=\"displacy-token\" fill=\"currentColor\" text-anchor=\"middle\" y=\"484.5\">\n",
       "    <tspan class=\"displacy-word\" fill=\"currentColor\" x=\"4600\">when</tspan>\n",
       "    <tspan class=\"displacy-tag\" dy=\"2em\" fill=\"currentColor\" x=\"4600\">SCONJ</tspan>\n",
       "</text>\n",
       "\n",
       "<text class=\"displacy-token\" fill=\"currentColor\" text-anchor=\"middle\" y=\"484.5\">\n",
       "    <tspan class=\"displacy-word\" fill=\"currentColor\" x=\"4775\">we</tspan>\n",
       "    <tspan class=\"displacy-tag\" dy=\"2em\" fill=\"currentColor\" x=\"4775\">PRON</tspan>\n",
       "</text>\n",
       "\n",
       "<text class=\"displacy-token\" fill=\"currentColor\" text-anchor=\"middle\" y=\"484.5\">\n",
       "    <tspan class=\"displacy-word\" fill=\"currentColor\" x=\"4950\">simply</tspan>\n",
       "    <tspan class=\"displacy-tag\" dy=\"2em\" fill=\"currentColor\" x=\"4950\">ADV</tspan>\n",
       "</text>\n",
       "\n",
       "<text class=\"displacy-token\" fill=\"currentColor\" text-anchor=\"middle\" y=\"484.5\">\n",
       "    <tspan class=\"displacy-word\" fill=\"currentColor\" x=\"5125\">take</tspan>\n",
       "    <tspan class=\"displacy-tag\" dy=\"2em\" fill=\"currentColor\" x=\"5125\">VERB</tspan>\n",
       "</text>\n",
       "\n",
       "<text class=\"displacy-token\" fill=\"currentColor\" text-anchor=\"middle\" y=\"484.5\">\n",
       "    <tspan class=\"displacy-word\" fill=\"currentColor\" x=\"5300\">the</tspan>\n",
       "    <tspan class=\"displacy-tag\" dy=\"2em\" fill=\"currentColor\" x=\"5300\">DET</tspan>\n",
       "</text>\n",
       "\n",
       "<text class=\"displacy-token\" fill=\"currentColor\" text-anchor=\"middle\" y=\"484.5\">\n",
       "    <tspan class=\"displacy-word\" fill=\"currentColor\" x=\"5475\">time</tspan>\n",
       "    <tspan class=\"displacy-tag\" dy=\"2em\" fill=\"currentColor\" x=\"5475\">NOUN</tspan>\n",
       "</text>\n",
       "\n",
       "<text class=\"displacy-token\" fill=\"currentColor\" text-anchor=\"middle\" y=\"484.5\">\n",
       "    <tspan class=\"displacy-word\" fill=\"currentColor\" x=\"5650\">to</tspan>\n",
       "    <tspan class=\"displacy-tag\" dy=\"2em\" fill=\"currentColor\" x=\"5650\">PART</tspan>\n",
       "</text>\n",
       "\n",
       "<text class=\"displacy-token\" fill=\"currentColor\" text-anchor=\"middle\" y=\"484.5\">\n",
       "    <tspan class=\"displacy-word\" fill=\"currentColor\" x=\"5825\">listen</tspan>\n",
       "    <tspan class=\"displacy-tag\" dy=\"2em\" fill=\"currentColor\" x=\"5825\">VERB</tspan>\n",
       "</text>\n",
       "\n",
       "<g class=\"displacy-arrow\">\n",
       "    <path class=\"displacy-arc\" id=\"arrow-021aea82fecb4985aeedfbc317690bfd-0-0\" stroke-width=\"2px\" d=\"M80,439.5 C80,264.5 377.5,264.5 377.5,439.5\" fill=\"none\" stroke=\"currentColor\"/>\n",
       "    <text dy=\"1.25em\" style=\"font-size: 0.8em; letter-spacing: 1px\">\n",
       "        <textPath xlink:href=\"#arrow-021aea82fecb4985aeedfbc317690bfd-0-0\" class=\"displacy-label\" startOffset=\"50%\" side=\"left\" fill=\"currentColor\" text-anchor=\"middle\">nsubj</textPath>\n",
       "    </text>\n",
       "    <path class=\"displacy-arrowhead\" d=\"M80,441.5 L77,434.5 83,434.5\" fill=\"currentColor\"/>\n",
       "</g>\n",
       "\n",
       "<g class=\"displacy-arrow\">\n",
       "    <path class=\"displacy-arc\" id=\"arrow-021aea82fecb4985aeedfbc317690bfd-0-1\" stroke-width=\"2px\" d=\"M255,439.5 C255,352.0 370.0,352.0 370.0,439.5\" fill=\"none\" stroke=\"currentColor\"/>\n",
       "    <text dy=\"1.25em\" style=\"font-size: 0.8em; letter-spacing: 1px\">\n",
       "        <textPath xlink:href=\"#arrow-021aea82fecb4985aeedfbc317690bfd-0-1\" class=\"displacy-label\" startOffset=\"50%\" side=\"left\" fill=\"currentColor\" text-anchor=\"middle\">aux</textPath>\n",
       "    </text>\n",
       "    <path class=\"displacy-arrowhead\" d=\"M255,441.5 L252,434.5 258,434.5\" fill=\"currentColor\"/>\n",
       "</g>\n",
       "\n",
       "<g class=\"displacy-arrow\">\n",
       "    <path class=\"displacy-arc\" id=\"arrow-021aea82fecb4985aeedfbc317690bfd-0-2\" stroke-width=\"2px\" d=\"M430,439.5 C430,352.0 545.0,352.0 545.0,439.5\" fill=\"none\" stroke=\"currentColor\"/>\n",
       "    <text dy=\"1.25em\" style=\"font-size: 0.8em; letter-spacing: 1px\">\n",
       "        <textPath xlink:href=\"#arrow-021aea82fecb4985aeedfbc317690bfd-0-2\" class=\"displacy-label\" startOffset=\"50%\" side=\"left\" fill=\"currentColor\" text-anchor=\"middle\">prep</textPath>\n",
       "    </text>\n",
       "    <path class=\"displacy-arrowhead\" d=\"M545.0,441.5 L548.0,434.5 542.0,434.5\" fill=\"currentColor\"/>\n",
       "</g>\n",
       "\n",
       "<g class=\"displacy-arrow\">\n",
       "    <path class=\"displacy-arc\" id=\"arrow-021aea82fecb4985aeedfbc317690bfd-0-3\" stroke-width=\"2px\" d=\"M780,439.5 C780,352.0 895.0,352.0 895.0,439.5\" fill=\"none\" stroke=\"currentColor\"/>\n",
       "    <text dy=\"1.25em\" style=\"font-size: 0.8em; letter-spacing: 1px\">\n",
       "        <textPath xlink:href=\"#arrow-021aea82fecb4985aeedfbc317690bfd-0-3\" class=\"displacy-label\" startOffset=\"50%\" side=\"left\" fill=\"currentColor\" text-anchor=\"middle\">det</textPath>\n",
       "    </text>\n",
       "    <path class=\"displacy-arrowhead\" d=\"M780,441.5 L777,434.5 783,434.5\" fill=\"currentColor\"/>\n",
       "</g>\n",
       "\n",
       "<g class=\"displacy-arrow\">\n",
       "    <path class=\"displacy-arc\" id=\"arrow-021aea82fecb4985aeedfbc317690bfd-0-4\" stroke-width=\"2px\" d=\"M605,439.5 C605,264.5 902.5,264.5 902.5,439.5\" fill=\"none\" stroke=\"currentColor\"/>\n",
       "    <text dy=\"1.25em\" style=\"font-size: 0.8em; letter-spacing: 1px\">\n",
       "        <textPath xlink:href=\"#arrow-021aea82fecb4985aeedfbc317690bfd-0-4\" class=\"displacy-label\" startOffset=\"50%\" side=\"left\" fill=\"currentColor\" text-anchor=\"middle\">pobj</textPath>\n",
       "    </text>\n",
       "    <path class=\"displacy-arrowhead\" d=\"M902.5,441.5 L905.5,434.5 899.5,434.5\" fill=\"currentColor\"/>\n",
       "</g>\n",
       "\n",
       "<g class=\"displacy-arrow\">\n",
       "    <path class=\"displacy-arc\" id=\"arrow-021aea82fecb4985aeedfbc317690bfd-0-5\" stroke-width=\"2px\" d=\"M955,439.5 C955,352.0 1070.0,352.0 1070.0,439.5\" fill=\"none\" stroke=\"currentColor\"/>\n",
       "    <text dy=\"1.25em\" style=\"font-size: 0.8em; letter-spacing: 1px\">\n",
       "        <textPath xlink:href=\"#arrow-021aea82fecb4985aeedfbc317690bfd-0-5\" class=\"displacy-label\" startOffset=\"50%\" side=\"left\" fill=\"currentColor\" text-anchor=\"middle\">cc</textPath>\n",
       "    </text>\n",
       "    <path class=\"displacy-arrowhead\" d=\"M1070.0,441.5 L1073.0,434.5 1067.0,434.5\" fill=\"currentColor\"/>\n",
       "</g>\n",
       "\n",
       "<g class=\"displacy-arrow\">\n",
       "    <path class=\"displacy-arc\" id=\"arrow-021aea82fecb4985aeedfbc317690bfd-0-6\" stroke-width=\"2px\" d=\"M1305,439.5 C1305,352.0 1420.0,352.0 1420.0,439.5\" fill=\"none\" stroke=\"currentColor\"/>\n",
       "    <text dy=\"1.25em\" style=\"font-size: 0.8em; letter-spacing: 1px\">\n",
       "        <textPath xlink:href=\"#arrow-021aea82fecb4985aeedfbc317690bfd-0-6\" class=\"displacy-label\" startOffset=\"50%\" side=\"left\" fill=\"currentColor\" text-anchor=\"middle\">det</textPath>\n",
       "    </text>\n",
       "    <path class=\"displacy-arrowhead\" d=\"M1305,441.5 L1302,434.5 1308,434.5\" fill=\"currentColor\"/>\n",
       "</g>\n",
       "\n",
       "<g class=\"displacy-arrow\">\n",
       "    <path class=\"displacy-arc\" id=\"arrow-021aea82fecb4985aeedfbc317690bfd-0-7\" stroke-width=\"2px\" d=\"M955,439.5 C955,177.0 1435.0,177.0 1435.0,439.5\" fill=\"none\" stroke=\"currentColor\"/>\n",
       "    <text dy=\"1.25em\" style=\"font-size: 0.8em; letter-spacing: 1px\">\n",
       "        <textPath xlink:href=\"#arrow-021aea82fecb4985aeedfbc317690bfd-0-7\" class=\"displacy-label\" startOffset=\"50%\" side=\"left\" fill=\"currentColor\" text-anchor=\"middle\">conj</textPath>\n",
       "    </text>\n",
       "    <path class=\"displacy-arrowhead\" d=\"M1435.0,441.5 L1438.0,434.5 1432.0,434.5\" fill=\"currentColor\"/>\n",
       "</g>\n",
       "\n",
       "<g class=\"displacy-arrow\">\n",
       "    <path class=\"displacy-arc\" id=\"arrow-021aea82fecb4985aeedfbc317690bfd-0-8\" stroke-width=\"2px\" d=\"M1480,439.5 C1480,352.0 1595.0,352.0 1595.0,439.5\" fill=\"none\" stroke=\"currentColor\"/>\n",
       "    <text dy=\"1.25em\" style=\"font-size: 0.8em; letter-spacing: 1px\">\n",
       "        <textPath xlink:href=\"#arrow-021aea82fecb4985aeedfbc317690bfd-0-8\" class=\"displacy-label\" startOffset=\"50%\" side=\"left\" fill=\"currentColor\" text-anchor=\"middle\">cc</textPath>\n",
       "    </text>\n",
       "    <path class=\"displacy-arrowhead\" d=\"M1595.0,441.5 L1598.0,434.5 1592.0,434.5\" fill=\"currentColor\"/>\n",
       "</g>\n",
       "\n",
       "<g class=\"displacy-arrow\">\n",
       "    <path class=\"displacy-arc\" id=\"arrow-021aea82fecb4985aeedfbc317690bfd-0-9\" stroke-width=\"2px\" d=\"M1830,439.5 C1830,352.0 1945.0,352.0 1945.0,439.5\" fill=\"none\" stroke=\"currentColor\"/>\n",
       "    <text dy=\"1.25em\" style=\"font-size: 0.8em; letter-spacing: 1px\">\n",
       "        <textPath xlink:href=\"#arrow-021aea82fecb4985aeedfbc317690bfd-0-9\" class=\"displacy-label\" startOffset=\"50%\" side=\"left\" fill=\"currentColor\" text-anchor=\"middle\">det</textPath>\n",
       "    </text>\n",
       "    <path class=\"displacy-arrowhead\" d=\"M1830,441.5 L1827,434.5 1833,434.5\" fill=\"currentColor\"/>\n",
       "</g>\n",
       "\n",
       "<g class=\"displacy-arrow\">\n",
       "    <path class=\"displacy-arc\" id=\"arrow-021aea82fecb4985aeedfbc317690bfd-0-10\" stroke-width=\"2px\" d=\"M1480,439.5 C1480,177.0 1960.0,177.0 1960.0,439.5\" fill=\"none\" stroke=\"currentColor\"/>\n",
       "    <text dy=\"1.25em\" style=\"font-size: 0.8em; letter-spacing: 1px\">\n",
       "        <textPath xlink:href=\"#arrow-021aea82fecb4985aeedfbc317690bfd-0-10\" class=\"displacy-label\" startOffset=\"50%\" side=\"left\" fill=\"currentColor\" text-anchor=\"middle\">conj</textPath>\n",
       "    </text>\n",
       "    <path class=\"displacy-arrowhead\" d=\"M1960.0,441.5 L1963.0,434.5 1957.0,434.5\" fill=\"currentColor\"/>\n",
       "</g>\n",
       "\n",
       "<g class=\"displacy-arrow\">\n",
       "    <path class=\"displacy-arc\" id=\"arrow-021aea82fecb4985aeedfbc317690bfd-0-11\" stroke-width=\"2px\" d=\"M2005,439.5 C2005,352.0 2120.0,352.0 2120.0,439.5\" fill=\"none\" stroke=\"currentColor\"/>\n",
       "    <text dy=\"1.25em\" style=\"font-size: 0.8em; letter-spacing: 1px\">\n",
       "        <textPath xlink:href=\"#arrow-021aea82fecb4985aeedfbc317690bfd-0-11\" class=\"displacy-label\" startOffset=\"50%\" side=\"left\" fill=\"currentColor\" text-anchor=\"middle\">dep</textPath>\n",
       "    </text>\n",
       "    <path class=\"displacy-arrowhead\" d=\"M2120.0,441.5 L2123.0,434.5 2117.0,434.5\" fill=\"currentColor\"/>\n",
       "</g>\n",
       "\n",
       "<g class=\"displacy-arrow\">\n",
       "    <path class=\"displacy-arc\" id=\"arrow-021aea82fecb4985aeedfbc317690bfd-0-12\" stroke-width=\"2px\" d=\"M2355,439.5 C2355,177.0 2835.0,177.0 2835.0,439.5\" fill=\"none\" stroke=\"currentColor\"/>\n",
       "    <text dy=\"1.25em\" style=\"font-size: 0.8em; letter-spacing: 1px\">\n",
       "        <textPath xlink:href=\"#arrow-021aea82fecb4985aeedfbc317690bfd-0-12\" class=\"displacy-label\" startOffset=\"50%\" side=\"left\" fill=\"currentColor\" text-anchor=\"middle\">nsubjpass</textPath>\n",
       "    </text>\n",
       "    <path class=\"displacy-arrowhead\" d=\"M2355,441.5 L2352,434.5 2358,434.5\" fill=\"currentColor\"/>\n",
       "</g>\n",
       "\n",
       "<g class=\"displacy-arrow\">\n",
       "    <path class=\"displacy-arc\" id=\"arrow-021aea82fecb4985aeedfbc317690bfd-0-13\" stroke-width=\"2px\" d=\"M2530,439.5 C2530,264.5 2827.5,264.5 2827.5,439.5\" fill=\"none\" stroke=\"currentColor\"/>\n",
       "    <text dy=\"1.25em\" style=\"font-size: 0.8em; letter-spacing: 1px\">\n",
       "        <textPath xlink:href=\"#arrow-021aea82fecb4985aeedfbc317690bfd-0-13\" class=\"displacy-label\" startOffset=\"50%\" side=\"left\" fill=\"currentColor\" text-anchor=\"middle\">aux</textPath>\n",
       "    </text>\n",
       "    <path class=\"displacy-arrowhead\" d=\"M2530,441.5 L2527,434.5 2533,434.5\" fill=\"currentColor\"/>\n",
       "</g>\n",
       "\n",
       "<g class=\"displacy-arrow\">\n",
       "    <path class=\"displacy-arc\" id=\"arrow-021aea82fecb4985aeedfbc317690bfd-0-14\" stroke-width=\"2px\" d=\"M2705,439.5 C2705,352.0 2820.0,352.0 2820.0,439.5\" fill=\"none\" stroke=\"currentColor\"/>\n",
       "    <text dy=\"1.25em\" style=\"font-size: 0.8em; letter-spacing: 1px\">\n",
       "        <textPath xlink:href=\"#arrow-021aea82fecb4985aeedfbc317690bfd-0-14\" class=\"displacy-label\" startOffset=\"50%\" side=\"left\" fill=\"currentColor\" text-anchor=\"middle\">auxpass</textPath>\n",
       "    </text>\n",
       "    <path class=\"displacy-arrowhead\" d=\"M2705,441.5 L2702,434.5 2708,434.5\" fill=\"currentColor\"/>\n",
       "</g>\n",
       "\n",
       "<g class=\"displacy-arrow\">\n",
       "    <path class=\"displacy-arc\" id=\"arrow-021aea82fecb4985aeedfbc317690bfd-0-15\" stroke-width=\"2px\" d=\"M2005,439.5 C2005,89.5 2842.5,89.5 2842.5,439.5\" fill=\"none\" stroke=\"currentColor\"/>\n",
       "    <text dy=\"1.25em\" style=\"font-size: 0.8em; letter-spacing: 1px\">\n",
       "        <textPath xlink:href=\"#arrow-021aea82fecb4985aeedfbc317690bfd-0-15\" class=\"displacy-label\" startOffset=\"50%\" side=\"left\" fill=\"currentColor\" text-anchor=\"middle\">relcl</textPath>\n",
       "    </text>\n",
       "    <path class=\"displacy-arrowhead\" d=\"M2842.5,441.5 L2845.5,434.5 2839.5,434.5\" fill=\"currentColor\"/>\n",
       "</g>\n",
       "\n",
       "<g class=\"displacy-arrow\">\n",
       "    <path class=\"displacy-arc\" id=\"arrow-021aea82fecb4985aeedfbc317690bfd-0-16\" stroke-width=\"2px\" d=\"M2880,439.5 C2880,352.0 2995.0,352.0 2995.0,439.5\" fill=\"none\" stroke=\"currentColor\"/>\n",
       "    <text dy=\"1.25em\" style=\"font-size: 0.8em; letter-spacing: 1px\">\n",
       "        <textPath xlink:href=\"#arrow-021aea82fecb4985aeedfbc317690bfd-0-16\" class=\"displacy-label\" startOffset=\"50%\" side=\"left\" fill=\"currentColor\" text-anchor=\"middle\">prep</textPath>\n",
       "    </text>\n",
       "    <path class=\"displacy-arrowhead\" d=\"M2995.0,441.5 L2998.0,434.5 2992.0,434.5\" fill=\"currentColor\"/>\n",
       "</g>\n",
       "\n",
       "<g class=\"displacy-arrow\">\n",
       "    <path class=\"displacy-arc\" id=\"arrow-021aea82fecb4985aeedfbc317690bfd-0-17\" stroke-width=\"2px\" d=\"M3230,439.5 C3230,352.0 3345.0,352.0 3345.0,439.5\" fill=\"none\" stroke=\"currentColor\"/>\n",
       "    <text dy=\"1.25em\" style=\"font-size: 0.8em; letter-spacing: 1px\">\n",
       "        <textPath xlink:href=\"#arrow-021aea82fecb4985aeedfbc317690bfd-0-17\" class=\"displacy-label\" startOffset=\"50%\" side=\"left\" fill=\"currentColor\" text-anchor=\"middle\">det</textPath>\n",
       "    </text>\n",
       "    <path class=\"displacy-arrowhead\" d=\"M3230,441.5 L3227,434.5 3233,434.5\" fill=\"currentColor\"/>\n",
       "</g>\n",
       "\n",
       "<g class=\"displacy-arrow\">\n",
       "    <path class=\"displacy-arc\" id=\"arrow-021aea82fecb4985aeedfbc317690bfd-0-18\" stroke-width=\"2px\" d=\"M3055,439.5 C3055,264.5 3352.5,264.5 3352.5,439.5\" fill=\"none\" stroke=\"currentColor\"/>\n",
       "    <text dy=\"1.25em\" style=\"font-size: 0.8em; letter-spacing: 1px\">\n",
       "        <textPath xlink:href=\"#arrow-021aea82fecb4985aeedfbc317690bfd-0-18\" class=\"displacy-label\" startOffset=\"50%\" side=\"left\" fill=\"currentColor\" text-anchor=\"middle\">pobj</textPath>\n",
       "    </text>\n",
       "    <path class=\"displacy-arrowhead\" d=\"M3352.5,441.5 L3355.5,434.5 3349.5,434.5\" fill=\"currentColor\"/>\n",
       "</g>\n",
       "\n",
       "<g class=\"displacy-arrow\">\n",
       "    <path class=\"displacy-arc\" id=\"arrow-021aea82fecb4985aeedfbc317690bfd-0-19\" stroke-width=\"2px\" d=\"M3405,439.5 C3405,352.0 3520.0,352.0 3520.0,439.5\" fill=\"none\" stroke=\"currentColor\"/>\n",
       "    <text dy=\"1.25em\" style=\"font-size: 0.8em; letter-spacing: 1px\">\n",
       "        <textPath xlink:href=\"#arrow-021aea82fecb4985aeedfbc317690bfd-0-19\" class=\"displacy-label\" startOffset=\"50%\" side=\"left\" fill=\"currentColor\" text-anchor=\"middle\">prep</textPath>\n",
       "    </text>\n",
       "    <path class=\"displacy-arrowhead\" d=\"M3520.0,441.5 L3523.0,434.5 3517.0,434.5\" fill=\"currentColor\"/>\n",
       "</g>\n",
       "\n",
       "<g class=\"displacy-arrow\">\n",
       "    <path class=\"displacy-arc\" id=\"arrow-021aea82fecb4985aeedfbc317690bfd-0-20\" stroke-width=\"2px\" d=\"M3580,439.5 C3580,352.0 3695.0,352.0 3695.0,439.5\" fill=\"none\" stroke=\"currentColor\"/>\n",
       "    <text dy=\"1.25em\" style=\"font-size: 0.8em; letter-spacing: 1px\">\n",
       "        <textPath xlink:href=\"#arrow-021aea82fecb4985aeedfbc317690bfd-0-20\" class=\"displacy-label\" startOffset=\"50%\" side=\"left\" fill=\"currentColor\" text-anchor=\"middle\">pobj</textPath>\n",
       "    </text>\n",
       "    <path class=\"displacy-arrowhead\" d=\"M3695.0,441.5 L3698.0,434.5 3692.0,434.5\" fill=\"currentColor\"/>\n",
       "</g>\n",
       "\n",
       "<g class=\"displacy-arrow\">\n",
       "    <path class=\"displacy-arc\" id=\"arrow-021aea82fecb4985aeedfbc317690bfd-0-21\" stroke-width=\"2px\" d=\"M3930,439.5 C3930,352.0 4045.0,352.0 4045.0,439.5\" fill=\"none\" stroke=\"currentColor\"/>\n",
       "    <text dy=\"1.25em\" style=\"font-size: 0.8em; letter-spacing: 1px\">\n",
       "        <textPath xlink:href=\"#arrow-021aea82fecb4985aeedfbc317690bfd-0-21\" class=\"displacy-label\" startOffset=\"50%\" side=\"left\" fill=\"currentColor\" text-anchor=\"middle\">advmod</textPath>\n",
       "    </text>\n",
       "    <path class=\"displacy-arrowhead\" d=\"M3930,441.5 L3927,434.5 3933,434.5\" fill=\"currentColor\"/>\n",
       "</g>\n",
       "\n",
       "<g class=\"displacy-arrow\">\n",
       "    <path class=\"displacy-arc\" id=\"arrow-021aea82fecb4985aeedfbc317690bfd-0-22\" stroke-width=\"2px\" d=\"M3755,439.5 C3755,264.5 4052.5,264.5 4052.5,439.5\" fill=\"none\" stroke=\"currentColor\"/>\n",
       "    <text dy=\"1.25em\" style=\"font-size: 0.8em; letter-spacing: 1px\">\n",
       "        <textPath xlink:href=\"#arrow-021aea82fecb4985aeedfbc317690bfd-0-22\" class=\"displacy-label\" startOffset=\"50%\" side=\"left\" fill=\"currentColor\" text-anchor=\"middle\">prep</textPath>\n",
       "    </text>\n",
       "    <path class=\"displacy-arrowhead\" d=\"M4052.5,441.5 L4055.5,434.5 4049.5,434.5\" fill=\"currentColor\"/>\n",
       "</g>\n",
       "\n",
       "<g class=\"displacy-arrow\">\n",
       "    <path class=\"displacy-arc\" id=\"arrow-021aea82fecb4985aeedfbc317690bfd-0-23\" stroke-width=\"2px\" d=\"M4280,439.5 C4280,352.0 4395.0,352.0 4395.0,439.5\" fill=\"none\" stroke=\"currentColor\"/>\n",
       "    <text dy=\"1.25em\" style=\"font-size: 0.8em; letter-spacing: 1px\">\n",
       "        <textPath xlink:href=\"#arrow-021aea82fecb4985aeedfbc317690bfd-0-23\" class=\"displacy-label\" startOffset=\"50%\" side=\"left\" fill=\"currentColor\" text-anchor=\"middle\">compound</textPath>\n",
       "    </text>\n",
       "    <path class=\"displacy-arrowhead\" d=\"M4280,441.5 L4277,434.5 4283,434.5\" fill=\"currentColor\"/>\n",
       "</g>\n",
       "\n",
       "<g class=\"displacy-arrow\">\n",
       "    <path class=\"displacy-arc\" id=\"arrow-021aea82fecb4985aeedfbc317690bfd-0-24\" stroke-width=\"2px\" d=\"M4105,439.5 C4105,264.5 4402.5,264.5 4402.5,439.5\" fill=\"none\" stroke=\"currentColor\"/>\n",
       "    <text dy=\"1.25em\" style=\"font-size: 0.8em; letter-spacing: 1px\">\n",
       "        <textPath xlink:href=\"#arrow-021aea82fecb4985aeedfbc317690bfd-0-24\" class=\"displacy-label\" startOffset=\"50%\" side=\"left\" fill=\"currentColor\" text-anchor=\"middle\">dep</textPath>\n",
       "    </text>\n",
       "    <path class=\"displacy-arrowhead\" d=\"M4402.5,441.5 L4405.5,434.5 4399.5,434.5\" fill=\"currentColor\"/>\n",
       "</g>\n",
       "\n",
       "<g class=\"displacy-arrow\">\n",
       "    <path class=\"displacy-arc\" id=\"arrow-021aea82fecb4985aeedfbc317690bfd-0-25\" stroke-width=\"2px\" d=\"M4630,439.5 C4630,177.0 5110.0,177.0 5110.0,439.5\" fill=\"none\" stroke=\"currentColor\"/>\n",
       "    <text dy=\"1.25em\" style=\"font-size: 0.8em; letter-spacing: 1px\">\n",
       "        <textPath xlink:href=\"#arrow-021aea82fecb4985aeedfbc317690bfd-0-25\" class=\"displacy-label\" startOffset=\"50%\" side=\"left\" fill=\"currentColor\" text-anchor=\"middle\">advmod</textPath>\n",
       "    </text>\n",
       "    <path class=\"displacy-arrowhead\" d=\"M4630,441.5 L4627,434.5 4633,434.5\" fill=\"currentColor\"/>\n",
       "</g>\n",
       "\n",
       "<g class=\"displacy-arrow\">\n",
       "    <path class=\"displacy-arc\" id=\"arrow-021aea82fecb4985aeedfbc317690bfd-0-26\" stroke-width=\"2px\" d=\"M4805,439.5 C4805,264.5 5102.5,264.5 5102.5,439.5\" fill=\"none\" stroke=\"currentColor\"/>\n",
       "    <text dy=\"1.25em\" style=\"font-size: 0.8em; letter-spacing: 1px\">\n",
       "        <textPath xlink:href=\"#arrow-021aea82fecb4985aeedfbc317690bfd-0-26\" class=\"displacy-label\" startOffset=\"50%\" side=\"left\" fill=\"currentColor\" text-anchor=\"middle\">nsubj</textPath>\n",
       "    </text>\n",
       "    <path class=\"displacy-arrowhead\" d=\"M4805,441.5 L4802,434.5 4808,434.5\" fill=\"currentColor\"/>\n",
       "</g>\n",
       "\n",
       "<g class=\"displacy-arrow\">\n",
       "    <path class=\"displacy-arc\" id=\"arrow-021aea82fecb4985aeedfbc317690bfd-0-27\" stroke-width=\"2px\" d=\"M4980,439.5 C4980,352.0 5095.0,352.0 5095.0,439.5\" fill=\"none\" stroke=\"currentColor\"/>\n",
       "    <text dy=\"1.25em\" style=\"font-size: 0.8em; letter-spacing: 1px\">\n",
       "        <textPath xlink:href=\"#arrow-021aea82fecb4985aeedfbc317690bfd-0-27\" class=\"displacy-label\" startOffset=\"50%\" side=\"left\" fill=\"currentColor\" text-anchor=\"middle\">advmod</textPath>\n",
       "    </text>\n",
       "    <path class=\"displacy-arrowhead\" d=\"M4980,441.5 L4977,434.5 4983,434.5\" fill=\"currentColor\"/>\n",
       "</g>\n",
       "\n",
       "<g class=\"displacy-arrow\">\n",
       "    <path class=\"displacy-arc\" id=\"arrow-021aea82fecb4985aeedfbc317690bfd-0-28\" stroke-width=\"2px\" d=\"M2880,439.5 C2880,2.0 5125.0,2.0 5125.0,439.5\" fill=\"none\" stroke=\"currentColor\"/>\n",
       "    <text dy=\"1.25em\" style=\"font-size: 0.8em; letter-spacing: 1px\">\n",
       "        <textPath xlink:href=\"#arrow-021aea82fecb4985aeedfbc317690bfd-0-28\" class=\"displacy-label\" startOffset=\"50%\" side=\"left\" fill=\"currentColor\" text-anchor=\"middle\">advcl</textPath>\n",
       "    </text>\n",
       "    <path class=\"displacy-arrowhead\" d=\"M5125.0,441.5 L5128.0,434.5 5122.0,434.5\" fill=\"currentColor\"/>\n",
       "</g>\n",
       "\n",
       "<g class=\"displacy-arrow\">\n",
       "    <path class=\"displacy-arc\" id=\"arrow-021aea82fecb4985aeedfbc317690bfd-0-29\" stroke-width=\"2px\" d=\"M5330,439.5 C5330,352.0 5445.0,352.0 5445.0,439.5\" fill=\"none\" stroke=\"currentColor\"/>\n",
       "    <text dy=\"1.25em\" style=\"font-size: 0.8em; letter-spacing: 1px\">\n",
       "        <textPath xlink:href=\"#arrow-021aea82fecb4985aeedfbc317690bfd-0-29\" class=\"displacy-label\" startOffset=\"50%\" side=\"left\" fill=\"currentColor\" text-anchor=\"middle\">det</textPath>\n",
       "    </text>\n",
       "    <path class=\"displacy-arrowhead\" d=\"M5330,441.5 L5327,434.5 5333,434.5\" fill=\"currentColor\"/>\n",
       "</g>\n",
       "\n",
       "<g class=\"displacy-arrow\">\n",
       "    <path class=\"displacy-arc\" id=\"arrow-021aea82fecb4985aeedfbc317690bfd-0-30\" stroke-width=\"2px\" d=\"M5155,439.5 C5155,264.5 5452.5,264.5 5452.5,439.5\" fill=\"none\" stroke=\"currentColor\"/>\n",
       "    <text dy=\"1.25em\" style=\"font-size: 0.8em; letter-spacing: 1px\">\n",
       "        <textPath xlink:href=\"#arrow-021aea82fecb4985aeedfbc317690bfd-0-30\" class=\"displacy-label\" startOffset=\"50%\" side=\"left\" fill=\"currentColor\" text-anchor=\"middle\">dobj</textPath>\n",
       "    </text>\n",
       "    <path class=\"displacy-arrowhead\" d=\"M5452.5,441.5 L5455.5,434.5 5449.5,434.5\" fill=\"currentColor\"/>\n",
       "</g>\n",
       "\n",
       "<g class=\"displacy-arrow\">\n",
       "    <path class=\"displacy-arc\" id=\"arrow-021aea82fecb4985aeedfbc317690bfd-0-31\" stroke-width=\"2px\" d=\"M5680,439.5 C5680,352.0 5795.0,352.0 5795.0,439.5\" fill=\"none\" stroke=\"currentColor\"/>\n",
       "    <text dy=\"1.25em\" style=\"font-size: 0.8em; letter-spacing: 1px\">\n",
       "        <textPath xlink:href=\"#arrow-021aea82fecb4985aeedfbc317690bfd-0-31\" class=\"displacy-label\" startOffset=\"50%\" side=\"left\" fill=\"currentColor\" text-anchor=\"middle\">aux</textPath>\n",
       "    </text>\n",
       "    <path class=\"displacy-arrowhead\" d=\"M5680,441.5 L5677,434.5 5683,434.5\" fill=\"currentColor\"/>\n",
       "</g>\n",
       "\n",
       "<g class=\"displacy-arrow\">\n",
       "    <path class=\"displacy-arc\" id=\"arrow-021aea82fecb4985aeedfbc317690bfd-0-32\" stroke-width=\"2px\" d=\"M5505,439.5 C5505,264.5 5802.5,264.5 5802.5,439.5\" fill=\"none\" stroke=\"currentColor\"/>\n",
       "    <text dy=\"1.25em\" style=\"font-size: 0.8em; letter-spacing: 1px\">\n",
       "        <textPath xlink:href=\"#arrow-021aea82fecb4985aeedfbc317690bfd-0-32\" class=\"displacy-label\" startOffset=\"50%\" side=\"left\" fill=\"currentColor\" text-anchor=\"middle\">relcl</textPath>\n",
       "    </text>\n",
       "    <path class=\"displacy-arrowhead\" d=\"M5802.5,441.5 L5805.5,434.5 5799.5,434.5\" fill=\"currentColor\"/>\n",
       "</g>\n",
       "</svg></span>"
      ],
      "text/plain": [
       "<IPython.core.display.HTML object>"
      ]
     },
     "metadata": {},
     "output_type": "display_data"
    }
   ],
   "source": [
    "spacy.displacy.render( \n",
    "    doc[1:-2], style=\"dep\", jupyter=True,\n",
    "    options={\"bg\":\"transparent\", \"arrow_width\": 5, \"arrow_spacing\": 30}\n",
    ") "
   ]
  },
  {
   "cell_type": "markdown",
   "id": "818aef1a",
   "metadata": {},
   "source": [
    "<br><br>"
   ]
  },
  {
   "cell_type": "markdown",
   "id": "8ef27c84",
   "metadata": {},
   "source": [
    "<b>Vectors and Semantic Similarity</b>"
   ]
  },
  {
   "cell_type": "markdown",
   "id": "12be4589",
   "metadata": {},
   "source": [
    "Similarity is determined by comparing word vectors or “word embeddings”, multi-dimensional meaning representations of a word. Word vectors can be generated using an algorithm like word2vec."
   ]
  },
  {
   "cell_type": "code",
   "execution_count": 9,
   "id": "bd029fda",
   "metadata": {},
   "outputs": [],
   "source": [
    "compute_similarity = lambda w1, w2: nlp(w1).similarity( nlp(w2) ) "
   ]
  },
  {
   "cell_type": "markdown",
   "id": "cf21e6e1",
   "metadata": {},
   "source": [
    "<br>"
   ]
  },
  {
   "cell_type": "markdown",
   "id": "99a9150c",
   "metadata": {},
   "source": [
    "Get similarity scores from word tuples"
   ]
  },
  {
   "cell_type": "code",
   "execution_count": 10,
   "id": "1c3024cf",
   "metadata": {},
   "outputs": [
    {
     "data": {
      "text/plain": [
       "0.6643053677545637"
      ]
     },
     "execution_count": 10,
     "metadata": {},
     "output_type": "execute_result"
    }
   ],
   "source": [
    "compute_similarity ( \"creativity\", \"innovation\" ) "
   ]
  },
  {
   "cell_type": "code",
   "execution_count": 11,
   "id": "97698d04",
   "metadata": {},
   "outputs": [
    {
     "data": {
      "text/plain": [
       "0.4634827277856967"
      ]
     },
     "execution_count": 11,
     "metadata": {},
     "output_type": "execute_result"
    }
   ],
   "source": [
    "compute_similarity ( \"creativity\", \"kindness\" ) "
   ]
  },
  {
   "cell_type": "code",
   "execution_count": 12,
   "id": "3cbb2acf",
   "metadata": {},
   "outputs": [
    {
     "data": {
      "text/plain": [
       "0.4278424226247513"
      ]
     },
     "execution_count": 12,
     "metadata": {},
     "output_type": "execute_result"
    }
   ],
   "source": [
    "compute_similarity ( \"creativity\", \"intelligence\" ) "
   ]
  },
  {
   "cell_type": "code",
   "execution_count": 13,
   "id": "f29bddf8",
   "metadata": {},
   "outputs": [
    {
     "data": {
      "text/plain": [
       "0.5730289299368784"
      ]
     },
     "execution_count": 13,
     "metadata": {},
     "output_type": "execute_result"
    }
   ],
   "source": [
    "compute_similarity ( \"fairness\", \"justice\" ) "
   ]
  },
  {
   "cell_type": "markdown",
   "id": "a5ddbc72",
   "metadata": {},
   "source": [
    "<br/>"
   ]
  },
  {
   "cell_type": "markdown",
   "id": "c4c3f04f",
   "metadata": {},
   "source": [
    "Under the hood, we compute the cosine distance between the two word vectors."
   ]
  },
  {
   "cell_type": "code",
   "execution_count": 14,
   "id": "2b062522",
   "metadata": {},
   "outputs": [
    {
     "data": {
      "text/plain": [
       "array([-3.4381e-01,  3.4376e-01,  4.9534e-01, -3.5717e-02, -8.8070e-02,\n",
       "       -4.7633e-01, -3.4325e-02,  5.9654e-01, -1.9067e-01,  3.3019e+00,\n",
       "       -4.3143e-01, -5.7032e-01,  3.1515e-01,  7.7676e-02, -5.9649e-01,\n",
       "        1.9499e-01, -2.4696e-02,  5.1572e-02,  2.2789e-02,  2.9140e-01,\n",
       "        7.3238e-02, -7.5725e-02,  2.8049e-01, -7.1488e-02,  6.4580e-01,\n",
       "       -3.2782e-01,  3.5153e-01,  1.2905e-01,  1.2300e-01,  3.3861e-01,\n",
       "       -1.1412e-01,  1.3384e-01, -3.7455e-02, -3.4492e-02, -1.3803e-01,\n",
       "       -5.2819e-01, -3.8170e-01, -5.6324e-01, -2.7196e-01,  3.6408e-01,\n",
       "        1.9637e-01, -3.9655e-02,  1.0042e-01, -7.8966e-02, -1.3110e-01,\n",
       "        1.0679e-02, -4.2275e-01,  2.0671e-01, -2.8614e-01, -3.1247e-01,\n",
       "        3.3054e-02,  6.1553e-01,  2.1825e-01,  2.9132e-01,  7.1687e-02,\n",
       "        4.5740e-01, -8.6655e-02,  1.2583e-01, -2.0430e-01, -1.9350e-01,\n",
       "       -3.3587e-01, -1.8023e-01, -5.6906e-04, -5.0594e-01,  1.8982e-01,\n",
       "       -2.2953e-01, -8.4605e-01, -1.0636e-01,  6.0445e-01, -9.3434e-01,\n",
       "       -2.0445e-01, -1.9468e-02, -8.5165e-02, -8.0196e-02,  6.9288e-02,\n",
       "       -3.5492e-02, -8.8441e-02,  8.6998e-02,  1.2425e-01,  1.5891e-01,\n",
       "       -4.5474e-01,  3.0423e-01,  1.3972e-01, -8.0910e-02,  1.6215e-01,\n",
       "        7.2958e-02, -7.8371e-02, -8.5138e-01,  4.0089e-01, -2.5055e-01,\n",
       "       -3.7060e-02,  3.0009e-02,  5.6314e-02, -7.7613e-02,  6.7582e-02,\n",
       "       -3.3996e-01, -3.8363e-01,  4.8418e-01,  8.1895e-02, -1.2648e-01,\n",
       "        6.7646e-02, -1.8651e-01,  4.9559e-01,  8.0809e-03,  3.2678e-02,\n",
       "       -1.3852e+00, -2.6012e-01,  5.5367e-02, -2.5384e-01,  3.2156e-01,\n",
       "       -1.0304e-01,  3.8231e-01, -6.4049e-02, -3.2753e-01,  4.8024e-01,\n",
       "        4.7911e-01,  7.6437e-02, -1.1158e-01, -4.3274e-01, -7.8790e-02,\n",
       "       -3.7597e-01, -1.7812e-02, -4.7244e-01,  4.6426e-01,  4.0035e-01,\n",
       "        2.3399e-01, -2.3188e-01,  1.2163e-01, -1.4199e-01, -1.1887e-01,\n",
       "        1.9661e-02,  3.3260e-02, -2.6521e-01, -3.5548e-01,  3.4249e-01,\n",
       "        5.2267e-01, -6.0441e-01, -5.5235e-02,  6.9289e-02,  2.5693e-01,\n",
       "       -8.2214e-01,  1.4612e-01,  5.2922e-01,  8.6075e-02, -1.8113e-01,\n",
       "       -1.5880e-01,  1.7196e-01,  1.2318e-01, -5.8314e-01,  1.7558e-01,\n",
       "       -1.5903e-01, -4.2397e-01,  2.4094e-01,  1.9245e-01,  9.0716e-02,\n",
       "        1.3609e-01, -5.2854e-01, -9.0411e-01,  4.7853e-01,  2.2009e-01,\n",
       "        2.3562e-01,  1.5602e-01,  2.2873e-02,  1.5689e-01, -1.3573e-02,\n",
       "        1.4856e-01,  1.2146e-01, -1.0311e+00, -1.4630e-01,  3.5024e-01,\n",
       "       -2.9306e-02, -5.0831e-01,  6.7779e-01,  2.1345e-01,  6.1324e-01,\n",
       "       -2.1474e-03,  1.2525e-01,  2.0347e-02, -6.4408e-02, -6.2743e-01,\n",
       "       -5.8759e-02,  1.7982e-01,  4.1751e-01, -2.0467e-02,  3.4598e-01,\n",
       "        3.7176e-01, -7.7420e-02, -1.1708e-01,  1.0484e-01,  3.7756e-01,\n",
       "       -9.2896e-01, -2.3951e-01,  4.2141e-02, -1.2649e-02,  1.2752e-02,\n",
       "        5.7616e-01,  3.5483e-02, -3.2552e-02, -1.9331e-02, -4.7913e-02,\n",
       "        1.3978e-01,  2.8369e-01, -1.6544e-01,  5.4986e-01, -2.4730e-01,\n",
       "       -4.3667e-01, -9.5433e-02,  3.7300e-01,  1.7801e-01,  1.1707e-01,\n",
       "        5.2180e-01,  3.1333e-01,  1.9200e-02,  5.9149e-01,  4.9123e-01,\n",
       "        3.6028e-02, -1.2109e-01,  1.2935e-01,  1.4267e-01,  4.4740e-01,\n",
       "       -4.7241e-01, -2.0163e-01, -3.3699e-01,  2.6804e-01,  1.8563e-01,\n",
       "        4.3579e-01, -6.0257e-02, -1.0421e-01,  6.1407e-01, -1.2944e-01,\n",
       "       -4.2510e-01, -8.2815e-02, -3.5562e-01,  2.5424e-01, -6.3312e-02,\n",
       "       -1.6352e-02,  1.9740e-01, -5.0832e-02,  6.2742e-02, -1.8423e-02,\n",
       "       -1.0329e-02, -2.0619e-01,  3.6215e-01, -2.3653e-01,  3.1223e-01,\n",
       "        3.5238e-01,  2.4704e-01, -4.5721e-01, -4.6983e-01, -1.5507e-01,\n",
       "        7.0817e-02,  2.7576e-01,  1.5181e-01,  1.8063e-01, -6.7651e-01,\n",
       "        4.5966e-02,  6.1935e-01,  5.0209e-03, -4.3542e-02, -5.0789e-02,\n",
       "       -3.3582e-01,  1.1226e-01,  5.1889e-02,  4.2312e-01, -3.7177e-01,\n",
       "       -3.8564e-01, -1.9854e-01,  5.8098e-02,  3.1533e-01, -1.8467e-01,\n",
       "       -1.4973e-01, -6.4299e-02, -3.7601e-01,  6.2940e-02,  1.0444e-01,\n",
       "        6.4675e-01,  3.0656e-01,  2.3517e-02,  1.3982e-01,  4.8348e-01,\n",
       "        1.0878e-01, -3.3280e-01, -8.1876e-03, -4.2152e-01, -1.7155e-01,\n",
       "       -3.4764e-02, -1.8088e-02,  4.7000e-01, -2.2744e-01, -7.5262e-01,\n",
       "       -2.7945e-01, -4.3493e-01,  4.1584e-02, -2.3649e-03, -8.9192e-02,\n",
       "        8.5272e-02,  6.3913e-01, -2.6494e-01, -1.8196e-01,  1.5598e-01],\n",
       "      dtype=float32)"
      ]
     },
     "execution_count": 14,
     "metadata": {},
     "output_type": "execute_result"
    }
   ],
   "source": [
    "nlp(\"justice\").vector"
   ]
  },
  {
   "cell_type": "markdown",
   "id": "a7cd8b01",
   "metadata": {},
   "source": [
    "Computing similarity scores can be helpful in many situations, but it’s also important to maintain realistic expectations about what information it can provide. Words can be related to each other in many ways, so a single “similarity” score will always be a mix of different signals, and vectors trained on different data can produce very different results that may not be useful for your purpose. Here are some important considerations to keep in mind:\n",
    "\n",
    "There’s no objective definition of similarity. Whether “I like burgers” and “I like pasta” is similar depends on your application. Both talk about food preferences, which makes them very similar – but if you’re analyzing mentions of food, those sentences are pretty dissimilar, because they talk about very different foods.\n",
    "The similarity of Doc and Span objects defaults to the average of the token vectors. This means that the vector for “fast food” is the average of the vectors for “fast” and “food”, which isn’t necessarily representative of the phrase “fast food”.\n",
    "Vector averaging means that the vector of multiple tokens is insensitive to the order of the words. Two documents expressing the same meaning with dissimilar wording will return a lower similarity score than two documents that happen to contain the same words while expressing different meanings."
   ]
  },
  {
   "cell_type": "markdown",
   "id": "7b45a275",
   "metadata": {},
   "source": [
    "<br/>"
   ]
  }
 ],
 "metadata": {
  "interpreter": {
   "hash": "aee8b7b246df8f9039afb4144a1f6fd8d2ca17a180786b69acc140d282b71a49"
  },
  "kernelspec": {
   "display_name": "Python 3 (ipykernel)",
   "language": "python",
   "name": "python3"
  },
  "language_info": {
   "codemirror_mode": {
    "name": "ipython",
    "version": 3
   },
   "file_extension": ".py",
   "mimetype": "text/x-python",
   "name": "python",
   "nbconvert_exporter": "python",
   "pygments_lexer": "ipython3",
   "version": "3.9.7"
  }
 },
 "nbformat": 4,
 "nbformat_minor": 5
}

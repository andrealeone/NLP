{
 "cells": [
  {
   "cell_type": "markdown",
   "id": "f52568e3",
   "metadata": {},
   "source": [
    "<br>\n",
    "<u>Notebook Ten</u> | \n",
    "<a href=https://leone.gdn/NLP target=_blank>Report</a> | \n",
    "<a href=https://github.com/andrealeone/NLP target=_blank>Repository</a>\n",
    "<br><br>\n",
    "<b>Convolutional Neural Network</b><br><br>\n",
    "Andrea Leone<br>\n",
    "ML for NLP — University of Trento<br>\n",
    "January 2022\n",
    "<hr><br><br>"
   ]
  },
  {
   "cell_type": "code",
   "execution_count": 1,
   "id": "facdf25c",
   "metadata": {},
   "outputs": [],
   "source": [
    "import project \n",
    "\n",
    "import numpy as np\n",
    "import torch\n",
    "\n",
    "project.notebook()"
   ]
  },
  {
   "cell_type": "code",
   "execution_count": 2,
   "id": "759dd932",
   "metadata": {},
   "outputs": [
    {
     "name": "stdout",
     "output_type": "stream",
     "text": [
      "train_set  =>  (0, 1376) (1, 1572) (2, 1052) \n",
      "test_set   =>  (0,  243) (1,  275) (2,  192) \n"
     ]
    }
   ],
   "source": [
    "records = project.sql_query(\"\"\" \n",
    "    SELECT vector, category FROM talks\n",
    "    WHERE  vector IS NOT NULL\n",
    "    ORDER BY slug ASC;\n",
    "\"\"\")\n",
    "\n",
    "(x, y), (z, t)                       \\\n",
    "    = train_set, test_set            \\\n",
    "    = splits                         \\\n",
    "    = project.split_in_sets( records )\n",
    "\n",
    "project.describe_sets(splits)"
   ]
  },
  {
   "cell_type": "markdown",
   "id": "29086071",
   "metadata": {},
   "source": [
    "<br/>"
   ]
  },
  {
   "cell_type": "markdown",
   "id": "cacec67f",
   "metadata": {},
   "source": [
    "### Convolutional Neural Network in PyTorch"
   ]
  },
  {
   "cell_type": "code",
   "execution_count": 3,
   "id": "db804f8b",
   "metadata": {
    "scrolled": false
   },
   "outputs": [
    {
     "name": "stdout",
     "output_type": "stream",
     "text": [
      "Network(\n",
      "  (cnv1): Conv1d(1, 5, kernel_size=(3,), stride=(1,))\n",
      "  (cnv2): Conv1d(5, 10, kernel_size=(3,), stride=(1,))\n",
      "  (cnv3): Conv1d(10, 20, kernel_size=(3,), stride=(1,))\n",
      "  (cnv4): Conv1d(20, 30, kernel_size=(3,), stride=(1,))\n",
      "  (cnv5): Conv1d(30, 40, kernel_size=(3,), stride=(1,))\n",
      "  (bn1): BatchNorm1d(5, eps=1e-05, momentum=0.1, affine=True, track_running_stats=True)\n",
      "  (bn2): BatchNorm1d(10, eps=1e-05, momentum=0.1, affine=True, track_running_stats=True)\n",
      "  (bn3): BatchNorm1d(20, eps=1e-05, momentum=0.1, affine=True, track_running_stats=True)\n",
      "  (bn4): BatchNorm1d(30, eps=1e-05, momentum=0.1, affine=True, track_running_stats=True)\n",
      "  (bn5): BatchNorm1d(40, eps=1e-05, momentum=0.1, affine=True, track_running_stats=True)\n",
      "  (pool): MaxPool1d(kernel_size=2, stride=2, padding=0, dilation=1, ceil_mode=False)\n",
      "  (drop): Dropout(p=0.25, inplace=False)\n",
      "  (fc1): Linear(in_features=480, out_features=200, bias=True)\n",
      "  (fc2): Linear(in_features=200, out_features=100, bias=True)\n",
      "  (fc3): Linear(in_features=100, out_features=50, bias=True)\n",
      "  (fc4): Linear(in_features=50, out_features=10, bias=True)\n",
      "  (fc5): Linear(in_features=10, out_features=3, bias=True)\n",
      ")\n",
      "AdamW (\n",
      "Parameter Group 0\n",
      "    amsgrad: False\n",
      "    betas: (0.9, 0.999)\n",
      "    eps: 1e-08\n",
      "    lr: 0.001\n",
      "    weight_decay: 0.02\n",
      ")\n",
      "CrossEntropyLoss()\n",
      "\n",
      "TRAINING\n"
     ]
    },
    {
     "data": {
      "application/vnd.jupyter.widget-view+json": {
       "model_id": "6f44baff821844a0ab3f302e1288c5ea",
       "version_major": 2,
       "version_minor": 0
      },
      "text/plain": [
       "  0%|          | 0/4000 [00:00<?, ?it/s]"
      ]
     },
     "metadata": {},
     "output_type": "display_data"
    },
    {
     "name": "stdout",
     "output_type": "stream",
     "text": [
      "loss  800:  1.041\n",
      "loss 1600:  0.946\n",
      "loss 2400:  0.911\n",
      "loss 3200:  0.849\n",
      "loss 4000:  0.840\n"
     ]
    },
    {
     "data": {
      "application/vnd.jupyter.widget-view+json": {
       "model_id": "f94ff14cf60f425fa2bd8f2bef80e5d0",
       "version_major": 2,
       "version_minor": 0
      },
      "text/plain": [
       "  0%|          | 0/4000 [00:00<?, ?it/s]"
      ]
     },
     "metadata": {},
     "output_type": "display_data"
    },
    {
     "name": "stdout",
     "output_type": "stream",
     "text": [
      "loss  800:  0.793\n",
      "loss 1600:  0.759\n",
      "loss 2400:  0.788\n",
      "loss 3200:  0.757\n",
      "loss 4000:  0.750\n"
     ]
    },
    {
     "data": {
      "application/vnd.jupyter.widget-view+json": {
       "model_id": "49fd48bb9b2e4cd2b1224a050ad9791b",
       "version_major": 2,
       "version_minor": 0
      },
      "text/plain": [
       "  0%|          | 0/4000 [00:00<?, ?it/s]"
      ]
     },
     "metadata": {},
     "output_type": "display_data"
    },
    {
     "name": "stdout",
     "output_type": "stream",
     "text": [
      "loss  800:  0.712\n",
      "loss 1600:  0.698\n",
      "loss 2400:  0.753\n",
      "loss 3200:  0.703\n",
      "loss 4000:  0.721\n"
     ]
    },
    {
     "data": {
      "application/vnd.jupyter.widget-view+json": {
       "model_id": "6f368eec034b4c439a67ced27ec4678d",
       "version_major": 2,
       "version_minor": 0
      },
      "text/plain": [
       "  0%|          | 0/4000 [00:00<?, ?it/s]"
      ]
     },
     "metadata": {},
     "output_type": "display_data"
    },
    {
     "name": "stdout",
     "output_type": "stream",
     "text": [
      "loss  800:  0.695\n",
      "loss 1600:  0.664\n",
      "loss 2400:  0.739\n",
      "loss 3200:  0.681\n",
      "loss 4000:  0.673\n"
     ]
    },
    {
     "data": {
      "application/vnd.jupyter.widget-view+json": {
       "model_id": "a00c662c2c674a4ea0534f27cc5e9225",
       "version_major": 2,
       "version_minor": 0
      },
      "text/plain": [
       "  0%|          | 0/4000 [00:00<?, ?it/s]"
      ]
     },
     "metadata": {},
     "output_type": "display_data"
    },
    {
     "name": "stdout",
     "output_type": "stream",
     "text": [
      "loss  800:  0.689\n",
      "loss 1600:  0.647\n",
      "loss 2400:  0.732\n",
      "loss 3200:  0.690\n",
      "loss 4000:  0.690\n"
     ]
    },
    {
     "data": {
      "application/vnd.jupyter.widget-view+json": {
       "model_id": "83bd0606bf5a4e58a822c325266bd9ab",
       "version_major": 2,
       "version_minor": 0
      },
      "text/plain": [
       "  0%|          | 0/4000 [00:00<?, ?it/s]"
      ]
     },
     "metadata": {},
     "output_type": "display_data"
    },
    {
     "name": "stdout",
     "output_type": "stream",
     "text": [
      "loss  800:  0.671\n",
      "loss 1600:  0.623\n",
      "loss 2400:  0.703\n",
      "loss 3200:  0.673\n",
      "loss 4000:  0.674\n"
     ]
    },
    {
     "data": {
      "application/vnd.jupyter.widget-view+json": {
       "model_id": "bd022352adfc4cfb94b3027675ab571a",
       "version_major": 2,
       "version_minor": 0
      },
      "text/plain": [
       "  0%|          | 0/4000 [00:00<?, ?it/s]"
      ]
     },
     "metadata": {},
     "output_type": "display_data"
    },
    {
     "name": "stdout",
     "output_type": "stream",
     "text": [
      "loss  800:  0.648\n",
      "loss 1600:  0.622\n",
      "loss 2400:  0.724\n",
      "loss 3200:  0.674\n",
      "loss 4000:  0.672\n"
     ]
    },
    {
     "data": {
      "application/vnd.jupyter.widget-view+json": {
       "model_id": "3410ae2dcd47495db90c274ae6797b99",
       "version_major": 2,
       "version_minor": 0
      },
      "text/plain": [
       "  0%|          | 0/4000 [00:00<?, ?it/s]"
      ]
     },
     "metadata": {},
     "output_type": "display_data"
    },
    {
     "name": "stdout",
     "output_type": "stream",
     "text": [
      "loss  800:  0.647\n",
      "loss 1600:  0.624\n",
      "loss 2400:  0.720\n",
      "loss 3200:  0.659\n",
      "loss 4000:  0.682\n"
     ]
    },
    {
     "data": {
      "application/vnd.jupyter.widget-view+json": {
       "model_id": "b77ca765614a49639ad4d2bc55202f9e",
       "version_major": 2,
       "version_minor": 0
      },
      "text/plain": [
       "  0%|          | 0/4000 [00:00<?, ?it/s]"
      ]
     },
     "metadata": {},
     "output_type": "display_data"
    },
    {
     "name": "stdout",
     "output_type": "stream",
     "text": [
      "loss  800:  0.636\n",
      "loss 1600:  0.602\n",
      "loss 2400:  0.694\n",
      "loss 3200:  0.646\n",
      "loss 4000:  0.660\n"
     ]
    },
    {
     "data": {
      "application/vnd.jupyter.widget-view+json": {
       "model_id": "2cf0d36181b04891967fcf8f897fc326",
       "version_major": 2,
       "version_minor": 0
      },
      "text/plain": [
       "  0%|          | 0/4000 [00:00<?, ?it/s]"
      ]
     },
     "metadata": {},
     "output_type": "display_data"
    },
    {
     "name": "stdout",
     "output_type": "stream",
     "text": [
      "loss  800:  0.626\n",
      "loss 1600:  0.617\n",
      "loss 2400:  0.713\n",
      "loss 3200:  0.644\n",
      "loss 4000:  0.639\n"
     ]
    },
    {
     "data": {
      "application/vnd.jupyter.widget-view+json": {
       "model_id": "c6bfeb3644444231b0d10a3d67af0a06",
       "version_major": 2,
       "version_minor": 0
      },
      "text/plain": [
       "  0%|          | 0/4000 [00:00<?, ?it/s]"
      ]
     },
     "metadata": {},
     "output_type": "display_data"
    },
    {
     "name": "stdout",
     "output_type": "stream",
     "text": [
      "loss  800:  0.635\n",
      "loss 1600:  0.609\n",
      "loss 2400:  0.676\n",
      "loss 3200:  0.650\n",
      "loss 4000:  0.651\n"
     ]
    },
    {
     "data": {
      "application/vnd.jupyter.widget-view+json": {
       "model_id": "eabc5f0a0b474f46940fcc3a127a1869",
       "version_major": 2,
       "version_minor": 0
      },
      "text/plain": [
       "  0%|          | 0/4000 [00:00<?, ?it/s]"
      ]
     },
     "metadata": {},
     "output_type": "display_data"
    },
    {
     "name": "stdout",
     "output_type": "stream",
     "text": [
      "loss  800:  0.631\n",
      "loss 1600:  0.605\n",
      "loss 2400:  0.691\n",
      "loss 3200:  0.634\n",
      "loss 4000:  0.633\n"
     ]
    },
    {
     "data": {
      "application/vnd.jupyter.widget-view+json": {
       "model_id": "96cb234d049b4d15a5d4f62481ff71d3",
       "version_major": 2,
       "version_minor": 0
      },
      "text/plain": [
       "  0%|          | 0/4000 [00:00<?, ?it/s]"
      ]
     },
     "metadata": {},
     "output_type": "display_data"
    },
    {
     "name": "stdout",
     "output_type": "stream",
     "text": [
      "loss  800:  0.620\n",
      "loss 1600:  0.598\n",
      "loss 2400:  0.673\n",
      "loss 3200:  0.644\n",
      "loss 4000:  0.641\n"
     ]
    },
    {
     "data": {
      "application/vnd.jupyter.widget-view+json": {
       "model_id": "bd8da1e280794c4b8644949bd95bd5aa",
       "version_major": 2,
       "version_minor": 0
      },
      "text/plain": [
       "  0%|          | 0/4000 [00:00<?, ?it/s]"
      ]
     },
     "metadata": {},
     "output_type": "display_data"
    },
    {
     "name": "stdout",
     "output_type": "stream",
     "text": [
      "loss  800:  0.601\n",
      "loss 1600:  0.594\n",
      "loss 2400:  0.664\n",
      "loss 3200:  0.637\n",
      "loss 4000:  0.629\n"
     ]
    },
    {
     "data": {
      "application/vnd.jupyter.widget-view+json": {
       "model_id": "94ee3474b58f4411ab483200ef5e13d4",
       "version_major": 2,
       "version_minor": 0
      },
      "text/plain": [
       "  0%|          | 0/4000 [00:00<?, ?it/s]"
      ]
     },
     "metadata": {},
     "output_type": "display_data"
    },
    {
     "name": "stdout",
     "output_type": "stream",
     "text": [
      "loss  800:  0.601\n",
      "loss 1600:  0.587\n",
      "loss 2400:  0.694\n",
      "loss 3200:  0.637\n",
      "loss 4000:  0.629\n"
     ]
    },
    {
     "data": {
      "application/vnd.jupyter.widget-view+json": {
       "model_id": "fb2a7c77b4e04c98a7f45758074a5dcb",
       "version_major": 2,
       "version_minor": 0
      },
      "text/plain": [
       "  0%|          | 0/4000 [00:00<?, ?it/s]"
      ]
     },
     "metadata": {},
     "output_type": "display_data"
    },
    {
     "name": "stdout",
     "output_type": "stream",
     "text": [
      "loss  800:  0.610\n",
      "loss 1600:  0.578\n",
      "loss 2400:  0.689\n",
      "loss 3200:  0.624\n",
      "loss 4000:  0.622\n"
     ]
    },
    {
     "data": {
      "application/vnd.jupyter.widget-view+json": {
       "model_id": "5adcc5cd958c44bdbf79e575c85c5364",
       "version_major": 2,
       "version_minor": 0
      },
      "text/plain": [
       "  0%|          | 0/4000 [00:00<?, ?it/s]"
      ]
     },
     "metadata": {},
     "output_type": "display_data"
    },
    {
     "name": "stdout",
     "output_type": "stream",
     "text": [
      "loss  800:  0.612\n",
      "loss 1600:  0.572\n",
      "loss 2400:  0.664\n",
      "loss 3200:  0.645\n",
      "loss 4000:  0.609\n"
     ]
    },
    {
     "data": {
      "application/vnd.jupyter.widget-view+json": {
       "model_id": "bab2ab18fe7b419d88bfa344fc2fef22",
       "version_major": 2,
       "version_minor": 0
      },
      "text/plain": [
       "  0%|          | 0/4000 [00:00<?, ?it/s]"
      ]
     },
     "metadata": {},
     "output_type": "display_data"
    },
    {
     "name": "stdout",
     "output_type": "stream",
     "text": [
      "loss  800:  0.598\n",
      "loss 1600:  0.573\n",
      "loss 2400:  0.671\n",
      "loss 3200:  0.618\n",
      "loss 4000:  0.621\n"
     ]
    },
    {
     "data": {
      "application/vnd.jupyter.widget-view+json": {
       "model_id": "f9d73f5d563a458f98f3fad8c431aa3d",
       "version_major": 2,
       "version_minor": 0
      },
      "text/plain": [
       "  0%|          | 0/4000 [00:00<?, ?it/s]"
      ]
     },
     "metadata": {},
     "output_type": "display_data"
    },
    {
     "name": "stdout",
     "output_type": "stream",
     "text": [
      "loss  800:  0.604\n",
      "loss 1600:  0.567\n",
      "loss 2400:  0.694\n",
      "loss 3200:  0.629\n",
      "loss 4000:  0.623\n"
     ]
    },
    {
     "data": {
      "application/vnd.jupyter.widget-view+json": {
       "model_id": "39d4d865b081482e942b92ddd1c011ca",
       "version_major": 2,
       "version_minor": 0
      },
      "text/plain": [
       "  0%|          | 0/4000 [00:00<?, ?it/s]"
      ]
     },
     "metadata": {},
     "output_type": "display_data"
    },
    {
     "name": "stdout",
     "output_type": "stream",
     "text": [
      "loss  800:  0.598\n",
      "loss 1600:  0.588\n",
      "loss 2400:  0.672\n",
      "loss 3200:  0.620\n",
      "loss 4000:  0.627\n"
     ]
    },
    {
     "data": {
      "application/vnd.jupyter.widget-view+json": {
       "model_id": "97b70482f2a845738750d54f22213a47",
       "version_major": 2,
       "version_minor": 0
      },
      "text/plain": [
       "  0%|          | 0/4000 [00:00<?, ?it/s]"
      ]
     },
     "metadata": {},
     "output_type": "display_data"
    },
    {
     "name": "stdout",
     "output_type": "stream",
     "text": [
      "loss  800:  0.578\n",
      "loss 1600:  0.582\n",
      "loss 2400:  0.656\n",
      "loss 3200:  0.616\n",
      "loss 4000:  0.621\n"
     ]
    },
    {
     "data": {
      "application/vnd.jupyter.widget-view+json": {
       "model_id": "d51407223b4548d498b6b3b080d5df82",
       "version_major": 2,
       "version_minor": 0
      },
      "text/plain": [
       "  0%|          | 0/4000 [00:00<?, ?it/s]"
      ]
     },
     "metadata": {},
     "output_type": "display_data"
    },
    {
     "name": "stdout",
     "output_type": "stream",
     "text": [
      "loss  800:  0.608\n",
      "loss 1600:  0.574\n",
      "loss 2400:  0.667\n",
      "loss 3200:  0.613\n",
      "loss 4000:  0.629\n"
     ]
    },
    {
     "data": {
      "application/vnd.jupyter.widget-view+json": {
       "model_id": "7977cb7a713846e485996895616ecbda",
       "version_major": 2,
       "version_minor": 0
      },
      "text/plain": [
       "  0%|          | 0/4000 [00:00<?, ?it/s]"
      ]
     },
     "metadata": {},
     "output_type": "display_data"
    },
    {
     "name": "stdout",
     "output_type": "stream",
     "text": [
      "loss  800:  0.599\n",
      "loss 1600:  0.571\n",
      "loss 2400:  0.665\n",
      "loss 3200:  0.619\n",
      "loss 4000:  0.609\n"
     ]
    },
    {
     "data": {
      "application/vnd.jupyter.widget-view+json": {
       "model_id": "fd9e4f2656194385bbdeeb909ac112de",
       "version_major": 2,
       "version_minor": 0
      },
      "text/plain": [
       "  0%|          | 0/4000 [00:00<?, ?it/s]"
      ]
     },
     "metadata": {},
     "output_type": "display_data"
    },
    {
     "name": "stdout",
     "output_type": "stream",
     "text": [
      "loss  800:  0.582\n",
      "loss 1600:  0.573\n",
      "loss 2400:  0.639\n",
      "loss 3200:  0.603\n",
      "loss 4000:  0.613\n"
     ]
    },
    {
     "data": {
      "application/vnd.jupyter.widget-view+json": {
       "model_id": "b02e7beb309e4b72b01060b95e11c9b5",
       "version_major": 2,
       "version_minor": 0
      },
      "text/plain": [
       "  0%|          | 0/4000 [00:00<?, ?it/s]"
      ]
     },
     "metadata": {},
     "output_type": "display_data"
    },
    {
     "name": "stdout",
     "output_type": "stream",
     "text": [
      "loss  800:  0.569\n",
      "loss 1600:  0.565\n",
      "loss 2400:  0.646\n",
      "loss 3200:  0.612\n",
      "loss 4000:  0.616\n",
      "\n",
      "TESTING\n"
     ]
    },
    {
     "data": {
      "application/vnd.jupyter.widget-view+json": {
       "model_id": "dcc03747c38d4395ab848dcca4238278",
       "version_major": 2,
       "version_minor": 0
      },
      "text/plain": [
       "  0%|          | 0/710 [00:00<?, ?it/s]"
      ]
     },
     "metadata": {},
     "output_type": "display_data"
    },
    {
     "data": {
      "image/png": "[encoded data removed]",
      "text/plain": [
       "<Figure size 432x288 with 1 Axes>"
      ]
     },
     "metadata": {
      "needs_background": "light"
     },
     "output_type": "display_data"
    },
    {
     "name": "stdout",
     "output_type": "stream",
     "text": [
      "accuracy    0.6985915492957746\n",
      "precision   0.6974371409469863\n",
      "recall      0.6829780053622646\n"
     ]
    },
    {
     "data": {
      "image/png": "[encoded data removed]",
      "text/plain": [
       "<Figure size 864x360 with 1 Axes>"
      ]
     },
     "metadata": {
      "needs_background": "light"
     },
     "output_type": "display_data"
    }
   ],
   "source": [
    "class Network(torch.nn.Module): \n",
    "    \n",
    "    def __init__(self):\n",
    "        super().__init__()\n",
    "        \n",
    "        self.cnv1 = torch.nn.Conv1d(  1,  5, kernel_size=3 )\n",
    "        self.cnv2 = torch.nn.Conv1d(  5, 10, kernel_size=3 )\n",
    "        self.cnv3 = torch.nn.Conv1d( 10, 20, kernel_size=3 )\n",
    "        self.cnv4 = torch.nn.Conv1d( 20, 30, kernel_size=3 )\n",
    "        self.cnv5 = torch.nn.Conv1d( 30, 40, kernel_size=3 )\n",
    "        \n",
    "        self.bn1  = torch.nn.BatchNorm1d(  5 )\n",
    "        self.bn2  = torch.nn.BatchNorm1d( 10 )\n",
    "        self.bn3  = torch.nn.BatchNorm1d( 20 )\n",
    "        self.bn4  = torch.nn.BatchNorm1d( 30 )\n",
    "        self.bn5  = torch.nn.BatchNorm1d( 40 )\n",
    "        \n",
    "        self.pool = torch.nn.MaxPool1d( kernel_size=2 )\n",
    "        self.drop = torch.nn.Dropout( p=0.25 )\n",
    "        \n",
    "        self.fc1  = torch.nn.Linear(  480, 200 )\n",
    "        self.fc2  = torch.nn.Linear(  200, 100 )\n",
    "        self.fc3  = torch.nn.Linear(  100,  50 )\n",
    "        self.fc4  = torch.nn.Linear(   50,  10 )\n",
    "        self.fc5  = torch.nn.Linear(   10,   3 )\n",
    "    \n",
    "    def forward(self, x):\n",
    "        \n",
    "        x = x.reshape(1, 1, 300)\n",
    "        \n",
    "        x = self.cnv1(x)\n",
    "        x = self.bn1(x)\n",
    "        x = torch.nn.functional.relu( x )\n",
    "        x = self.pool(x)\n",
    "        \n",
    "        x = self.cnv2(x)\n",
    "        x = self.bn2(x)\n",
    "        x = torch.nn.functional.relu( x )\n",
    "        x = self.pool(x)\n",
    "        \n",
    "        x = self.cnv3(x)\n",
    "        x = self.bn3(x)\n",
    "        x = torch.nn.functional.relu( x )\n",
    "        x = self.pool(x)\n",
    "        \n",
    "        x = self.cnv4(x)\n",
    "        x = self.bn4(x)\n",
    "        x = torch.nn.functional.relu( x )\n",
    "        x = self.pool(x)\n",
    "        \n",
    "        x = self.drop(x)\n",
    "        \n",
    "        x = x.reshape(x.shape[0], -1)\n",
    "        \n",
    "        x = torch.nn.functional.relu( self.fc1(x) )\n",
    "        x = torch.nn.functional.relu( self.fc2(x) )\n",
    "        x = torch.nn.functional.relu( self.fc3(x) )\n",
    "        x = torch.nn.functional.gelu( self.fc4(x) )\n",
    "        x = self.fc5(x)\n",
    "        \n",
    "        return x\n",
    "\n",
    "model = Network()\n",
    "print(model)\n",
    "\n",
    "criterion = torch.nn.CrossEntropyLoss(\n",
    "    weight=project.class_weights(y, as_type='tensor')\n",
    ")\n",
    "\n",
    "optimizer = torch.optim.AdamW (\n",
    "    model.parameters(),\n",
    "    lr=.001, eps=1e-08, weight_decay=.02\n",
    ")\n",
    "\n",
    "performance = project.train_nn ( model, x, y, criterion,optimizer, epochs=25, li=800 )\n",
    "results     = project.test_nn  ( model, z, t )\n",
    "\n",
    "t, p, (accuracy,precision,recall), rl = results\n",
    "\n",
    "project.plot_train(performance) "
   ]
  },
  {
   "cell_type": "markdown",
   "id": "3129f71c",
   "metadata": {},
   "source": [
    "<br/>"
   ]
  },
  {
   "cell_type": "markdown",
   "id": "b2a2e2dc",
   "metadata": {},
   "source": [
    "<b>Fine tuning score board</b> — CNN<br> \n",
    "<pre>\n",
    "accuracy  precision recall     cm_d          cl_s                fcl_s            es  o_ps     afs\n",
    "\n",
    ".72676056 .72091802 .71870643  187 208 121   5.3 10.3 10.3  5.3  200 100 50 10 3   5  lr=.001  gelu+relu\n",
    ".72394366 .71718998 .71655630  192 202 120   5.3 10.3 10.3  5.3  200 100 50 10 3  10  lr=.001  gelu+relu\n",
    "\n",
    ".71126760 .70832584 .69628140  176 222 107   5.3 10.3 10.3  5.3  200 100 50 10 3   5  lr=.001  gelu+gelu\n",
    ".73239436 .73257180 .72487365  169 222 129   5.3 10.3 10.3  5.3  200 100 50 10 3  10  lr=.001  gelu+gelu\n",
    ".71549295 .70872243 .70812110  188 201 119   5.3 10.3 10.3  5.3  200 100 50 10 3  15  lr=.001  gelu+gelu\n",
    "\n",
    ".71267605 .71722856 .69430446  179 227 100   5.2 10.2 10.2  5.2  100  50  3       10  lr=.001  tanh+gelu\n",
    ".72676056 .72785771 .71426128  169 229 118   5.2 10.2 10.2  5.2  200 100 50 10 3  10  lr=.001  tanh+gelu\n",
    "\n",
    ".70281690 .70513830 .70080722  158 206 135   5.3 10.3 10.3  5.3  200 100 50 10 3   5  lr=.001  tanh+gelu\n",
    ".73098591 .72889928 .71944873  182 220 117   5.3 10.3 10.3  5.3  200 100 50 10 3  10  lr=.001  tanh+gelu\n",
    ".73098591 .72959104 .71865062  177 225 117   5.3 10.3 10.3  5.3  200 100 50 10 3   5  lr=.001  tanh+relu\n",
    ".73098591 .73548818 .71623542  175 231 113   5.3 10.3 10.3  5.3  200 100 50 10 3  10  lr=.001  tanh+relu\n",
    "\n",
    ".69436619 .70395044 .69342000  154 203 136   5.1 10.2 10.2  5.3  200 100 50 10 3   5  lr=.001  tanh+gelu\n",
    ".71971830 .72140926 .71615078  163 213 135   5.1 10.2 10.2  5.3  200 100 50 10 3  10  lr=.001  tanh+gelu\n",
    "\n",
    ".69295774 .68948801 .68216181  160 217 115  10.3 10.3 10.3 10.3  200 100 50 10 3   5  lr=.001  tanh+relu\n",
    ".70985915 .70660968 .69600277  172 222 110  10.2 10.2 10.3 10.3  200 100 50 10 3   5  lr=.001  tanh+relu\n",
    "\n",
    ".70140845 .70538124 .69153050  160 219 119   5.3 10.3 10.3 10.3  200 100 50 10 3   5  lr=.001  tanh+relu\n",
    ".73943661 .73941735 .73797512  177 208 140   5.3 10.3 10.3 10.3  200 100 50 10 3  10  lr=.001  tanh+relu\n",
    ".72394366 .71885208 .71423135  184 212 118   5.3 10.3 10.3 10.3  200 100 50 10 3  15  lr=.001  tanh+relu\n",
    "\n",
    ".72253521 .72036646 .71178739  173 221 119   5.3 10.3 10.3 5.3 5.1  200 100 50 10 3   5  lr=.001  tanh+relu\n",
    ".71971830 .71461776 .70745105  184 215 112   5.3 10.3 10.3 5.3 5.1  200 100 50 10 3  10  lr=.001  tanh+relu\n",
    "\n",
    "</pre>"
   ]
  },
  {
   "cell_type": "markdown",
   "id": "1dce3012",
   "metadata": {},
   "source": [
    "<br>"
   ]
  }
 ],
 "metadata": {
  "kernelspec": {
   "display_name": "Python 3 (ipykernel)",
   "language": "python",
   "name": "python3"
  },
  "language_info": {
   "codemirror_mode": {
    "name": "ipython",
    "version": 3
   },
   "file_extension": ".py",
   "mimetype": "text/x-python",
   "name": "python",
   "nbconvert_exporter": "python",
   "pygments_lexer": "ipython3",
   "version": "3.9.7"
  }
 },
 "nbformat": 4,
 "nbformat_minor": 5
}

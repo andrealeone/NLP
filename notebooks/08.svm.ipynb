{
 "cells": [
  {
   "cell_type": "markdown",
   "id": "595b3b04",
   "metadata": {},
   "source": [
    "<br>\n",
    "<u>Notebook Eight</u> | \n",
    "<a href=https://github.com/andrealeone/NLP target=_blank>Repository</a>\n",
    "<br><br>\n",
    "<b>Support Vector Machines</b><br><br>\n",
    "Andrea Leone<br>\n",
    "University of Trento<br>\n",
    "January 2022\n",
    "<br><br>"
   ]
  },
  {
   "cell_type": "code",
   "execution_count": 1,
   "id": "facdf25c",
   "metadata": {},
   "outputs": [],
   "source": [
    "import project \n",
    "\n",
    "import sklearn\n",
    "import sklearn.svm\n",
    "\n",
    "\n",
    "project.notebook()"
   ]
  },
  {
   "cell_type": "code",
   "execution_count": 2,
   "id": "759dd932",
   "metadata": {},
   "outputs": [
    {
     "name": "stdout",
     "output_type": "stream",
     "text": [
      "Data reduced from 4710 to 4630 (-1.70%).\n",
      "\n",
      "train_set  =>  (0, 1370) (1, 1584) (2, 1046) \n",
      "test_set   =>  (0,  230) (1,  229) (2,  171) \n"
     ]
    }
   ],
   "source": [
    "records = project.sql_query(\"\"\" \n",
    "    SELECT vector, category FROM talks\n",
    "    WHERE  vector IS NOT NULL\n",
    "    ORDER BY slug ASC;\n",
    "\"\"\"); pruning_method = 'LOF'\n",
    "\n",
    "records = project.prune_outliers(records, pruning_method)\n",
    "\n",
    "(x, y), (z, t)                       \\\n",
    "    = train_set, test_set            \\\n",
    "    = splits                         \\\n",
    "    = project.split_in_sets( records )\n",
    "\n",
    "project.describe_sets(splits)"
   ]
  },
  {
   "cell_type": "markdown",
   "id": "68b1552b",
   "metadata": {},
   "source": [
    "<br/>"
   ]
  },
  {
   "cell_type": "markdown",
   "id": "e528677f",
   "metadata": {},
   "source": [
    "A **Support Vector Machine** constructs a hyperplane (or set of hyperplanes) in a high dimensional space. A good separation is achieved when the hyperplane maximises the distance to the nearest training data points of any class (so-called functional margin), since the larger the margin the lower the generalization error of the classifier. SVMs have many advantages:  \n",
    "* They are effective in high dimensional spaces (and remain effective in cases where number of dimensions is greater than the number of samples).\n",
    "* They use a subset of training points in the decision function (the support vectors), making it is memory efficient too.\n",
    "* They are also versatile: kernel functions can be specified for the decision function.\n",
    "* Overfitting can be stemmed with kernel functions or with a regularisation term."
   ]
  },
  {
   "cell_type": "markdown",
   "id": "9cb3d52d",
   "metadata": {},
   "source": [
    "<br/>"
   ]
  },
  {
   "cell_type": "markdown",
   "id": "b3d1b9ef",
   "metadata": {},
   "source": [
    "### Linear Support Vector Classification"
   ]
  },
  {
   "cell_type": "markdown",
   "id": "377b558e",
   "metadata": {},
   "source": [
    "<br>\n",
    "LinearSVC is a SVM implementation using a linear kernel for classification ([liblinear](https://www.csie.ntu.edu.tw/~cjlin/liblinear/) instead of [libsvm](https://www.csie.ntu.edu.tw/~cjlin/libsvm/)).  \n",
    "It has more flexibility in the choice of penalties and loss functions and should scale better with a relatively large numbers of samples.<br/>\n",
    "<br>"
   ]
  },
  {
   "cell_type": "code",
   "execution_count": 3,
   "id": "a31920bf",
   "metadata": {},
   "outputs": [],
   "source": [
    "lsv = sklearn.svm.LinearSVC(\n",
    "    penalty='l2', loss='squared_hinge', C=2.0,\n",
    "    multi_class='ovr', tol=0.0001, max_iter=400,\n",
    "    fit_intercept=True, intercept_scaling=1,\n",
    "    class_weight=project.class_weights(y),\n",
    "    random_state=42\n",
    ").fit(x,y)"
   ]
  },
  {
   "cell_type": "code",
   "execution_count": 4,
   "id": "8a406cd9",
   "metadata": {},
   "outputs": [
    {
     "data": {
      "image/png": "[encoded data removed]",
      "text/plain": [
       "<Figure size 432x288 with 1 Axes>"
      ]
     },
     "metadata": {
      "needs_background": "light"
     },
     "output_type": "display_data"
    },
    {
     "name": "stdout",
     "output_type": "stream",
     "text": [
      "accuracy    0.753968253968254\n",
      "precision   0.7498504404985153\n",
      "recall      0.7450053683033607\n"
     ]
    }
   ],
   "source": [
    "p = lsv.predict(z)\n",
    "\n",
    "confusion_matrix          = project.confusion_matrix (t,p)\n",
    "accuracy,precision,recall = project.present_metrics  (t,p)"
   ]
  },
  {
   "cell_type": "markdown",
   "id": "be065632",
   "metadata": {},
   "source": [
    "<b>score board</b> — LinearSVC<br>\n",
    "<pre>\n",
    "pipeline         accuracy  precision recall     cm_d\n",
    "\n",
    "en_core_web_lg   .74788732 .74379935 .74187827  192 210 129\n",
    "en_core_web_lg   .75396825 .74985044 .74500536  191 173 111  without outliers (pm=LOF)\n",
    "en_core_web_lg   .74342105 .73021099 .72560640  115 157  67  without outliers (pm=IF)\n",
    "\n",
    "en_core_web_trf  .68547249 .70491715 .66850507  179 221  86\n",
    "en_core_web_trf  .67617449 .67889453 .65841361  168 168  67  without outliers (pm=LOF)\n",
    "en_core_web_trf  .68322981 .72222222 .67393862   50 115  55  without outliers (pm=IF)\n",
    "\n",
    "</pre>"
   ]
  },
  {
   "cell_type": "markdown",
   "id": "87a0cb5f",
   "metadata": {},
   "source": [
    "<br/>"
   ]
  },
  {
   "cell_type": "markdown",
   "id": "a4a1e908",
   "metadata": {},
   "source": [
    "### C-Support Vector Classifier"
   ]
  },
  {
   "cell_type": "markdown",
   "id": "658b2a27",
   "metadata": {},
   "source": [
    "<br>\n",
    "<code>C</code> is the regularization parameter: the strength of the regularization is inversely proportional to its value.<br/> It must be strictly positive. The penalty is a squared l2 penalty.<br/>\n",
    "<br>"
   ]
  },
  {
   "cell_type": "code",
   "execution_count": 5,
   "id": "c6a4261a",
   "metadata": {},
   "outputs": [],
   "source": [
    "svc = sklearn.svm.SVC(\n",
    "    C=0.6, kernel='rbf', gamma='scale',\n",
    "    shrinking=True, probability=False,\n",
    "    tol=0.0001, decision_function_shape='ovr',\n",
    "    class_weight=project.class_weights(y),\n",
    "    random_state=42\n",
    ").fit(x,y)"
   ]
  },
  {
   "cell_type": "code",
   "execution_count": 6,
   "id": "cb7c1f0f",
   "metadata": {},
   "outputs": [
    {
     "data": {
      "image/png": "[encoded data removed]",
      "text/plain": [
       "<Figure size 432x288 with 1 Axes>"
      ]
     },
     "metadata": {
      "needs_background": "light"
     },
     "output_type": "display_data"
    },
    {
     "name": "stdout",
     "output_type": "stream",
     "text": [
      "accuracy    0.7142857142857143\n",
      "precision   0.7077957185666649\n",
      "recall      0.7087798129587624\n"
     ]
    }
   ],
   "source": [
    "p = svc.predict(z)\n",
    "\n",
    "confusion_matrix          = project.confusion_matrix (t,p)\n",
    "accuracy,precision,recall = project.present_metrics  (t,p)"
   ]
  },
  {
   "cell_type": "markdown",
   "id": "6e86e29d",
   "metadata": {},
   "source": [
    "<b>score board</b> — SVC<br>\n",
    "<pre>\n",
    "pipeline         accuracy  precision recall      cm_d\n",
    "\n",
    "en_core_web_lg   .69859154 .69541303 .69079272   164 211 121\n",
    "en_core_web_lg   .71428571 .70779571 .70877981   165 174 111  without outliers (pm=LOF)\n",
    "en_core_web_lg   .72587719 .71284063 .70696499   110 156  65  without outliers (pm=IF)\n",
    "\n",
    "en_core_web_trf  .38363892 .47652139 .39770875   131  24 117\n",
    "en_core_web_trf  .33557046 .41124413 .39959751    51  26 123  without outliers (pm=LOF)\n",
    "en_core_web_trf  .34782608 .44948247 .39678957    27  30  55  without outliers (pm=IF)\n",
    "\n",
    "</pre>"
   ]
  },
  {
   "cell_type": "markdown",
   "id": "c572c76d",
   "metadata": {},
   "source": [
    "<br/>"
   ]
  },
  {
   "cell_type": "markdown",
   "id": "f15d97cc",
   "metadata": {},
   "source": [
    "### Nu-Support Vector Classification"
   ]
  },
  {
   "cell_type": "markdown",
   "id": "fa032c85",
   "metadata": {},
   "source": [
    "<br>\n",
    "<code>Nu</code> is an upper bound on the fraction of margin errors and a lower bound of the fraction of support vectors.  Should be in the interval (0, 1].<br/>\n",
    "<br>"
   ]
  },
  {
   "cell_type": "code",
   "execution_count": 7,
   "id": "ae21b021",
   "metadata": {},
   "outputs": [],
   "source": [
    "nsv = sklearn.svm.NuSVC(\n",
    "    nu=0.3, kernel='rbf', gamma='scale',\n",
    "    shrinking=True, probability=False,\n",
    "    tol=0.0001, decision_function_shape='ovr',\n",
    "    class_weight=project.class_weights(y),\n",
    "    random_state=42\n",
    ").fit(x,y)"
   ]
  },
  {
   "cell_type": "code",
   "execution_count": 8,
   "id": "c9f4da23",
   "metadata": {},
   "outputs": [
    {
     "data": {
      "image/png": "[encoded data removed]",
      "text/plain": [
       "<Figure size 432x288 with 1 Axes>"
      ]
     },
     "metadata": {
      "needs_background": "light"
     },
     "output_type": "display_data"
    },
    {
     "name": "stdout",
     "output_type": "stream",
     "text": [
      "accuracy    0.7158730158730159\n",
      "precision   0.7108888888888889\n",
      "recall      0.7057033920793376\n"
     ]
    }
   ],
   "source": [
    "p = nsv.predict(z)\n",
    "\n",
    "confusion_matrix          = project.confusion_matrix (t,p)\n",
    "accuracy,precision,recall = project.present_metrics  (t,p)"
   ]
  },
  {
   "cell_type": "markdown",
   "id": "de556f59",
   "metadata": {},
   "source": [
    "<b>score board</b> — NuSVC<br>\n",
    "<pre>\n",
    "pipeline         accuracy  precision recall     cm_d\n",
    "\n",
    "en_core_web_lg   .73521126 .73076537 .72452168  191 214 117\n",
    "en_core_web_lg   .71587301 .71088888 .70570339  179 170 102  without outliers (pm=LOF)\n",
    "en_core_web_lg   .71271929 .69583827 .69366676  113 150  62  without outliers (pm=IF)\n",
    "\n",
    "en_core_web_trf  .69534555 .69022359 .68204887  201 189 103\n",
    "en_core_web_trf  .66275167 .64658706 .64513622  130 186  79  without outliers (pm=LOF)\n",
    "en_core_web_trf  .65527950 .64224054 .64813741   75  91  45  without outliers (pm=IF)\n",
    "\n",
    "</pre>"
   ]
  },
  {
   "cell_type": "markdown",
   "id": "135b90d6",
   "metadata": {},
   "source": [
    "<br>"
   ]
  }
 ],
 "metadata": {
  "kernelspec": {
   "display_name": "Python 3 (ipykernel)",
   "language": "python",
   "name": "python3"
  },
  "language_info": {
   "codemirror_mode": {
    "name": "ipython",
    "version": 3
   },
   "file_extension": ".py",
   "mimetype": "text/x-python",
   "name": "python",
   "nbconvert_exporter": "python",
   "pygments_lexer": "ipython3",
   "version": "3.9.7"
  }
 },
 "nbformat": 4,
 "nbformat_minor": 5
}

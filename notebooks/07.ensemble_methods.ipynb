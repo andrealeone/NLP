{
 "cells": [
  {
   "cell_type": "markdown",
   "id": "40e93a3d",
   "metadata": {},
   "source": [
    "<br>\n",
    "<u>Notebook Seven</u> | \n",
    "<a href=https://leone.gdn/NLP target=_blank>Report</a> | \n",
    "<a href=https://github.com/andrealeone/NLP target=_blank>Repository</a>\n",
    "<br><br>\n",
    "<b>Ensemble Methods</b><br><br>\n",
    "Andrea Leone<br>\n",
    "ML for NLP — University of Trento<br>\n",
    "January 2022\n",
    "<hr><br><br>"
   ]
  },
  {
   "cell_type": "code",
   "execution_count": 1,
   "id": "facdf25c",
   "metadata": {},
   "outputs": [],
   "source": [
    "import project \n",
    "\n",
    "import numpy   as np\n",
    "import xgboost as xgb\n",
    "import sklearn\n",
    "import sklearn.tree\n",
    "import sklearn.ensemble\n",
    "\n",
    "project.notebook()"
   ]
  },
  {
   "cell_type": "code",
   "execution_count": 2,
   "id": "759dd932",
   "metadata": {},
   "outputs": [
    {
     "name": "stdout",
     "output_type": "stream",
     "text": [
      "Data reduced from 4710 to 4456 (-5.39%).\n",
      "\n",
      "train_set  =>  (0, 1383) (1, 1556) (2, 1061) \n",
      "test_set   =>  (0,  156) (1,  193) (2,  107) \n"
     ]
    }
   ],
   "source": [
    "records = project.sql_query(\"\"\" \n",
    "    SELECT vector, category FROM talks\n",
    "    WHERE  vector IS NOT NULL\n",
    "    ORDER BY slug ASC;\n",
    "\"\"\"); pruning_method = 'IF'\n",
    "\n",
    "records = project.prune_outliers(records, pruning_method)\n",
    "\n",
    "(x, y), (z, t)                       \\\n",
    "    = train_set, test_set            \\\n",
    "    = splits                         \\\n",
    "    = project.split_in_sets( records )\n",
    "\n",
    "project.describe_sets(splits)"
   ]
  },
  {
   "cell_type": "markdown",
   "id": "29086071",
   "metadata": {},
   "source": [
    "<br/>"
   ]
  },
  {
   "cell_type": "markdown",
   "id": "cacec67f",
   "metadata": {},
   "source": [
    "### eXtreme Gradient Boosting Classifier"
   ]
  },
  {
   "cell_type": "markdown",
   "id": "fc29552e",
   "metadata": {},
   "source": [
    "[XGBoost](https://github.com/dmlc/xgboost) is an [award-winning](https://github.com/dmlc/xgboost/tree/master/demo#machine-learning-challenge-winning-solutions) regularizing gradient boosting framework that includes proportional leaf shrinking, automatic feature selection, and parallelised distributed computing. This implementation is set for multiclass classification using the softmax objective, outputting the predicted probability of each data point belonging to each class."
   ]
  },
  {
   "cell_type": "code",
   "execution_count": 3,
   "id": "16ccbbde",
   "metadata": {},
   "outputs": [],
   "source": [
    "xgbc = xgb.XGBClassifier( \n",
    "    objective='multi:softprob', eval_metric='rmse',\n",
    "    sampling_method='gradient_based', num_parallel_tree=2\n",
    ").fit(np.array(x), np.array(y))"
   ]
  },
  {
   "cell_type": "code",
   "execution_count": 4,
   "id": "29a890e6",
   "metadata": {},
   "outputs": [
    {
     "data": {
      "image/png": "[encoded data removed]",
      "text/plain": [
       "<Figure size 432x288 with 1 Axes>"
      ]
     },
     "metadata": {
      "needs_background": "light"
     },
     "output_type": "display_data"
    },
    {
     "name": "stdout",
     "output_type": "stream",
     "text": [
      "accuracy    0.756578947368421\n",
      "precision   0.7432107124050251\n",
      "recall      0.7336024372487499\n"
     ]
    }
   ],
   "source": [
    "p = xgbc.predict(np.array(z)) \n",
    "\n",
    "confusion_matrix          = project.confusion_matrix (t,p)\n",
    "accuracy,precision,recall = project.present_metrics  (t,p)"
   ]
  },
  {
   "cell_type": "markdown",
   "id": "ed177a9b",
   "metadata": {},
   "source": [
    "<b>score board</b> — XGBC<br>\n",
    "<pre>\n",
    "pipeline         accuracy  precision recall     cm_d\n",
    "\n",
    "en_core_web_lg   .74225352 .73888784 .73142552  193 216 118\n",
    "en_core_web_lg   .74126984 .73736670 .73244905  179 179 109  without outliers (pm=LOF)\n",
    "en_core_web_lg   .75657894 .74321071 .73360243  116 164  65  without outliers (pm=IF)\n",
    "\n",
    "en_core_web_trf  .62905500 .61890454 .60664763  182 197  67\n",
    "en_core_web_trf  .63758389 .61466636 .60319474  129 195  56  without outliers (pm=LOF)\n",
    "en_core_web_trf  .65838509 .63576423 .62916671   72 105  35  without outliers (pm=IF)\n",
    "\n",
    "</pre>"
   ]
  },
  {
   "cell_type": "markdown",
   "id": "68b1552b",
   "metadata": {},
   "source": [
    "<br/>"
   ]
  },
  {
   "cell_type": "markdown",
   "id": "b3d1b9ef",
   "metadata": {},
   "source": [
    "### Decision Trees Classifier"
   ]
  },
  {
   "cell_type": "code",
   "execution_count": 5,
   "id": "a31920bf",
   "metadata": {},
   "outputs": [],
   "source": [
    "dtc = sklearn.tree.DecisionTreeClassifier ( \n",
    "    criterion='entropy', splitter='best',\n",
    "    max_depth=None, min_samples_split=3,\n",
    "    ccp_alpha=0.0, random_state=42,\n",
    "    class_weight=project.class_weights(y)\n",
    ").fit(x,y)"
   ]
  },
  {
   "cell_type": "code",
   "execution_count": 6,
   "id": "53a0aa21",
   "metadata": {},
   "outputs": [
    {
     "data": {
      "image/png": "[encoded data removed]",
      "text/plain": [
       "<Figure size 432x288 with 1 Axes>"
      ]
     },
     "metadata": {
      "needs_background": "light"
     },
     "output_type": "display_data"
    },
    {
     "name": "stdout",
     "output_type": "stream",
     "text": [
      "accuracy    0.6337719298245614\n",
      "precision   0.6082343425907472\n",
      "recall      0.6071408764377628\n"
     ]
    }
   ],
   "source": [
    "p = dtc.predict(z) \n",
    "\n",
    "confusion_matrix          = project.confusion_matrix (t,p)\n",
    "accuracy,precision,recall = project.present_metrics  (t,p)"
   ]
  },
  {
   "cell_type": "markdown",
   "id": "e24b0535",
   "metadata": {},
   "source": [
    "<b>score board</b> — DTC<br>\n",
    "<pre>\n",
    "pipeline         accuracy  precision recall     cm_d\n",
    "\n",
    "en_core_web_lg   .56478873 .55439725 .55301604  147 171  83\n",
    "en_core_web_lg   .58412698 .57744174 .57580514  132 153  83  without outliers (pm=LOF)\n",
    "en_core_web_lg   .63377192 .60823434 .60714087  101 140  48  without outliers (pm=IF)\n",
    "\n",
    "en_core_web_trf  .45839210 .44928940 .44936768  135 122  68\n",
    "en_core_web_trf  .44295302 .42325117 .42290729   87 133  44  without outliers (pm=LOF)\n",
    "en_core_web_trf  .43788819 .42152348 .42188823   48  68  25  without outliers (pm=IF)\n",
    "\n",
    "</pre>"
   ]
  },
  {
   "cell_type": "markdown",
   "id": "87a0cb5f",
   "metadata": {},
   "source": [
    "<br/>"
   ]
  },
  {
   "cell_type": "markdown",
   "id": "f15d97cc",
   "metadata": {},
   "source": [
    "### Random Forest Classifier"
   ]
  },
  {
   "cell_type": "markdown",
   "id": "5af13c37",
   "metadata": {},
   "source": [
    "The goal of **ensemble methods** is to combine the predictions of several base estimators built with a given learning algorithm in order to improve generalisability / robustness over a single estimator."
   ]
  },
  {
   "cell_type": "code",
   "execution_count": 7,
   "id": "ae21b021",
   "metadata": {},
   "outputs": [],
   "source": [
    "rfc = sklearn.ensemble.RandomForestClassifier ( \n",
    "    n_estimators=400, criterion='entropy',\n",
    "    max_depth=None, min_samples_split=3,\n",
    "    ccp_alpha=0.0, random_state=42, bootstrap=True,\n",
    "    class_weight=project.class_weights(y)\n",
    ").fit(x,y)"
   ]
  },
  {
   "cell_type": "code",
   "execution_count": 8,
   "id": "d57fde4b",
   "metadata": {},
   "outputs": [
    {
     "data": {
      "image/png": "[encoded data removed]",
      "text/plain": [
       "<Figure size 432x288 with 1 Axes>"
      ]
     },
     "metadata": {
      "needs_background": "light"
     },
     "output_type": "display_data"
    },
    {
     "name": "stdout",
     "output_type": "stream",
     "text": [
      "accuracy    0.7456140350877193\n",
      "precision   0.7359055108256612\n",
      "recall      0.71329278977819\n"
     ]
    }
   ],
   "source": [
    "p = rfc.predict(z) \n",
    "\n",
    "confusion_matrix          = project.confusion_matrix (t,p)\n",
    "accuracy,precision,recall = project.present_metrics  (t,p)"
   ]
  },
  {
   "cell_type": "markdown",
   "id": "8643121b",
   "metadata": {},
   "source": [
    "<b>score board</b> — RFC<br>\n",
    "<pre>\n",
    "pipeline         accuracy  precision recall     cm_d\n",
    "\n",
    "en_core_web_lg   .71971830 .71761997 .70200640  186 224 101\n",
    "en_core_web_lg   .72222222 .72061624 .70609495  179 185  91  without outliers (pm=LOF)\n",
    "en_core_web_lg   .74561403 .73590551 .71329278  118 166  56  without outliers (pm=IF)\n",
    "\n",
    "en_core_web_trf  .62764456 .63577654 .60276742  180 205  60\n",
    "en_core_web_trf  .58053691 .56517999 .53353591  121 192  33  without outliers (pm=LOF)\n",
    "en_core_web_trf  .61801242 .58141088 .56230695   75 108  16  without outliers (pm=IF)\n",
    "\n",
    "</pre>"
   ]
  },
  {
   "cell_type": "markdown",
   "id": "08c2dde1",
   "metadata": {},
   "source": [
    "<br>"
   ]
  }
 ],
 "metadata": {
  "kernelspec": {
   "display_name": "Python 3 (ipykernel)",
   "language": "python",
   "name": "python3"
  },
  "language_info": {
   "codemirror_mode": {
    "name": "ipython",
    "version": 3
   },
   "file_extension": ".py",
   "mimetype": "text/x-python",
   "name": "python",
   "nbconvert_exporter": "python",
   "pygments_lexer": "ipython3",
   "version": "3.9.7"
  }
 },
 "nbformat": 4,
 "nbformat_minor": 5
}

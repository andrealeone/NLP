{
 "cells": [
  {
   "cell_type": "markdown",
   "id": "93d11b94",
   "metadata": {},
   "source": [
    "<br>\n",
    "<u>Notebook Five</u> | \n",
    "<a href=https://leone.gdn/NLP target=_blank>Report</a> | \n",
    "<a href=https://github.com/andrealeone/NLP target=_blank>Repository</a>\n",
    "<br><br>\n",
    "<b>Linear Models</b><br><br>\n",
    "Andrea Leone<br>\n",
    "ML for NLP — University of Trento<br>\n",
    "January 2022\n",
    "<hr><br><br>"
   ]
  },
  {
   "cell_type": "code",
   "execution_count": 1,
   "id": "27b8cdf8",
   "metadata": {},
   "outputs": [],
   "source": [
    "import project \n",
    "\n",
    "import sklearn\n",
    "import sklearn.linear_model\n",
    "import sklearn.discriminant_analysis\n",
    "\n",
    "project.notebook()"
   ]
  },
  {
   "cell_type": "code",
   "execution_count": 2,
   "id": "f4beef2f",
   "metadata": {},
   "outputs": [
    {
     "name": "stdout",
     "output_type": "stream",
     "text": [
      "train_set  =>  (0, 1376) (1, 1572) (2, 1052) \n",
      "test_set   =>  (0,  243) (1,  275) (2,  192) \n"
     ]
    }
   ],
   "source": [
    "records = project.sql_query(\"\"\" \n",
    "    SELECT vector, category FROM talks\n",
    "    WHERE  vector IS NOT NULL\n",
    "    ORDER BY slug ASC;\n",
    "\"\"\")\n",
    "\n",
    "(x, y), (z, t)                       \\\n",
    "    = train_set, test_set            \\\n",
    "    = splits                         \\\n",
    "    = project.split_in_sets( records )\n",
    "\n",
    "project.describe_sets(splits)"
   ]
  },
  {
   "cell_type": "markdown",
   "id": "54ce9fdf",
   "metadata": {},
   "source": [
    "<br/>"
   ]
  },
  {
   "cell_type": "markdown",
   "id": "21d82c2a",
   "metadata": {},
   "source": [
    "### Logistic Regression"
   ]
  },
  {
   "cell_type": "code",
   "execution_count": 3,
   "id": "4b191226",
   "metadata": {},
   "outputs": [],
   "source": [
    "lr  = sklearn.linear_model.LogisticRegression( \n",
    "    multi_class='multinomial', penalty='none', solver='lbfgs',\n",
    "    max_iter=400, tol=1e-2, fit_intercept=False, C=2,\n",
    "    class_weight=project.class_weights(y)\n",
    ").fit(x,y)"
   ]
  },
  {
   "cell_type": "code",
   "execution_count": 4,
   "id": "1a8addd7",
   "metadata": {
    "scrolled": false
   },
   "outputs": [
    {
     "data": {
      "image/png": "[encoded data removed]",
      "text/plain": [
       "<Figure size 432x288 with 1 Axes>"
      ]
     },
     "metadata": {
      "needs_background": "light"
     },
     "output_type": "display_data"
    },
    {
     "name": "stdout",
     "output_type": "stream",
     "text": [
      "accuracy    0.7408450704225352\n",
      "precision   0.7365318176479799\n",
      "recall      0.7403739556054371\n"
     ]
    }
   ],
   "source": [
    "p = lr.predict(z) \n",
    "\n",
    "confusion_matrix          = project.confusion_matrix (t,p)\n",
    "accuracy,precision,recall = project.present_metrics  (t,p)"
   ]
  },
  {
   "cell_type": "markdown",
   "id": "17d2ffb7",
   "metadata": {},
   "source": [
    "<b>score board</b> — LogReg<br>\n",
    "<pre>\n",
    "pipeline         accuracy  precision recall     cm_d\n",
    "\n",
    "en_core_web_lg   .74084507 .73653181 .74037395  191 197 138\n",
    "en_core_web_lg   .72222222 .71888288 .71893784  178 160 117  without outliers (pm=LOF)\n",
    "en_core_web_lg   .71491228 .70398010 .70486052  109 147  70  without outliers (pm=IF)\n",
    "\n",
    "en_core_web_trf  .69252468 .68450750 .68533017  194 181 116\n",
    "en_core_web_trf  .68456375 .67196153 .67399599  136 183  89  without outliers (pm=LOF)\n",
    "en_core_web_trf  .68633540 .67653301 .68215485   78  94  49  without outliers (pm=IF)\n",
    "\n",
    "</pre>"
   ]
  },
  {
   "cell_type": "markdown",
   "id": "923e3603",
   "metadata": {},
   "source": [
    "<br/>"
   ]
  },
  {
   "cell_type": "markdown",
   "id": "d42ee412",
   "metadata": {},
   "source": [
    "### Ridge Classifier"
   ]
  },
  {
   "cell_type": "code",
   "execution_count": 5,
   "id": "baed9e68",
   "metadata": {},
   "outputs": [],
   "source": [
    "rc  = sklearn.linear_model.RidgeClassifier( \n",
    "    alpha=0.1, solver='svd',\n",
    "    fit_intercept=True, normalize=True,\n",
    "    class_weight=project.class_weights(y)\n",
    ").fit(x,y)"
   ]
  },
  {
   "cell_type": "code",
   "execution_count": 6,
   "id": "e9ba0540",
   "metadata": {},
   "outputs": [
    {
     "data": {
      "image/png": "[encoded data removed]",
      "text/plain": [
       "<Figure size 432x288 with 1 Axes>"
      ]
     },
     "metadata": {
      "needs_background": "light"
     },
     "output_type": "display_data"
    },
    {
     "name": "stdout",
     "output_type": "stream",
     "text": [
      "accuracy    0.7563380281690141\n",
      "precision   0.7522610013922973\n",
      "recall      0.7541861516398555\n"
     ]
    }
   ],
   "source": [
    "p   = rc.predict(z) \n",
    "\n",
    "confusion_matrix          = project.confusion_matrix (t,p)\n",
    "accuracy,precision,recall = project.present_metrics  (t,p)"
   ]
  },
  {
   "cell_type": "markdown",
   "id": "0c254a8f",
   "metadata": {},
   "source": [
    "<b>score board</b> — RidgeC<br>\n",
    "<pre>\n",
    "pipeline         accuracy  precision recall     cm_d\n",
    "\n",
    "en_core_web_lg   .75633802 .75226100 .75418615  194 205 138\n",
    "en_core_web_lg   .75555555 .75225453 .75092338  188 168 120  without outliers (pm=LOF)\n",
    "en_core_web_lg   .72807017 .71534510 .71784028  112 149  71  without outliers (pm=IF)\n",
    "\n",
    "en_core_web_trf  .71509167 .70614073 .70450331  201 194 112\n",
    "en_core_web_trf  .71476510 .70155909 .70322505  143 191  92  without outliers (pm=LOF)\n",
    "en_core_web_trf  .70807453 .69512366 .69981149   79 100  49  without outliers (pm=IF)\n",
    "\n",
    "</pre>"
   ]
  },
  {
   "cell_type": "markdown",
   "id": "c2bc7e82",
   "metadata": {},
   "source": [
    "<br/>"
   ]
  },
  {
   "cell_type": "markdown",
   "id": "a0e0ed3c",
   "metadata": {},
   "source": [
    "### Stochastic Gradient Descent Classifier"
   ]
  },
  {
   "cell_type": "code",
   "execution_count": 7,
   "id": "ee16fa63",
   "metadata": {},
   "outputs": [],
   "source": [
    "sgd = sklearn.linear_model.SGDClassifier( \n",
    "    alpha=0.0001, epsilon=0.2, random_state=6,\n",
    "    max_iter=400, tol=1e-2, fit_intercept=True,\n",
    "    eta0=0.001, learning_rate='optimal',\n",
    "    class_weight=project.class_weights(y)\n",
    ").fit(x,y)"
   ]
  },
  {
   "cell_type": "code",
   "execution_count": 8,
   "id": "2caeced6",
   "metadata": {},
   "outputs": [
    {
     "data": {
      "image/png": "[encoded data removed]",
      "text/plain": [
       "<Figure size 432x288 with 1 Axes>"
      ]
     },
     "metadata": {
      "needs_background": "light"
     },
     "output_type": "display_data"
    },
    {
     "name": "stdout",
     "output_type": "stream",
     "text": [
      "accuracy    0.7211267605633803\n",
      "precision   0.731389816581849\n",
      "recall      0.7236507825165233\n"
     ]
    }
   ],
   "source": [
    "p = sgd.predict(z) \n",
    "\n",
    "confusion_matrix          = project.confusion_matrix (t,p)\n",
    "accuracy,precision,recall = project.present_metrics  (t,p)"
   ]
  },
  {
   "cell_type": "markdown",
   "id": "8c551a64",
   "metadata": {},
   "source": [
    "<b>score board</b> — SGDC<br>\n",
    "<pre>\n",
    "pipeline         accuracy  precision recall     cm_d\n",
    "\n",
    "en_core_web_lg   .72112676 .73138981 .72365078  163 202 147\n",
    "en_core_web_lg   .74603174 .74869077 .74665849  107 158  75  without outliers (pm=LOF)\n",
    "en_core_web_lg   .74561403 .73889044 .73516162  107 158  75  without outliers (pm=IF)\n",
    "\n",
    "en_core_web_trf  .60930888 .68816913 .58104511  258 101  73\n",
    "en_core_web_trf  .68288590 .68164749 .64248209  131 217  59  without outliers (pm=LOF)\n",
    "en_core_web_trf  .44720496 .68762062 .50073867   25  50  69  without outliers (pm=IF)\n",
    "\n",
    "</pre>"
   ]
  },
  {
   "cell_type": "markdown",
   "id": "2153ef2c",
   "metadata": {},
   "source": [
    "<br/>"
   ]
  },
  {
   "cell_type": "markdown",
   "id": "fc8f0582",
   "metadata": {},
   "source": [
    "### Linear Discriminant Analysis"
   ]
  },
  {
   "cell_type": "code",
   "execution_count": 9,
   "id": "17638ccb",
   "metadata": {},
   "outputs": [],
   "source": [
    "lda = sklearn.discriminant_analysis.LinearDiscriminantAnalysis(tol=0.02).fit(x,y)"
   ]
  },
  {
   "cell_type": "code",
   "execution_count": 10,
   "id": "d8fdfaab",
   "metadata": {},
   "outputs": [
    {
     "data": {
      "image/png": "[encoded data removed]",
      "text/plain": [
       "<Figure size 432x288 with 1 Axes>"
      ]
     },
     "metadata": {
      "needs_background": "light"
     },
     "output_type": "display_data"
    },
    {
     "name": "stdout",
     "output_type": "stream",
     "text": [
      "accuracy    0.7535211267605634\n",
      "precision   0.752896152811407\n",
      "recall      0.7458835266242674\n"
     ]
    }
   ],
   "source": [
    "p = lda.predict(z)\n",
    "\n",
    "confusion_matrix          = project.confusion_matrix (t,p)\n",
    "accuracy,precision,recall = project.present_metrics  (t,p)"
   ]
  },
  {
   "cell_type": "markdown",
   "id": "a95b270a",
   "metadata": {},
   "source": [
    "<b>score board</b> — LDA<br>\n",
    "<pre>\n",
    "pipeline         accuracy  precision recall     cm_d\n",
    "\n",
    "en_core_web_lg   .75352112 .75289615 .74588352  190 217 128\n",
    "en_core_web_lg   .75079365 .74532877 .74161310  189 174 110  without outliers (pm=LOF)\n",
    "en_core_web_lg   .72807017 .71543569 .71212844  115 151  66  without outliers (pm=IF)\n",
    "\n",
    "en_core_web_trf  .69675599 .68740503 .68518299  196 192 106\n",
    "en_core_web_trf  .67617449 .66460792 .66726233  128 183  92  without outliers (pm=LOF)\n",
    "en_core_web_trf  .67701863 .66601477 .67094983   78  93  47  without outliers (pm=IF)\n",
    "\n",
    "</pre>"
   ]
  },
  {
   "cell_type": "markdown",
   "id": "c0f3921f",
   "metadata": {},
   "source": [
    "<br/>"
   ]
  },
  {
   "cell_type": "markdown",
   "id": "0e027134",
   "metadata": {},
   "source": [
    "### Quadratic Discriminant Analysis"
   ]
  },
  {
   "cell_type": "code",
   "execution_count": 11,
   "id": "46211d23",
   "metadata": {},
   "outputs": [],
   "source": [
    "qda = sklearn.discriminant_analysis.QuadraticDiscriminantAnalysis(tol=0.02).fit(x,y)"
   ]
  },
  {
   "cell_type": "code",
   "execution_count": 12,
   "id": "aaecd203",
   "metadata": {},
   "outputs": [
    {
     "data": {
      "image/png": "[encoded data removed]",
      "text/plain": [
       "<Figure size 432x288 with 1 Axes>"
      ]
     },
     "metadata": {
      "needs_background": "light"
     },
     "output_type": "display_data"
    },
    {
     "name": "stdout",
     "output_type": "stream",
     "text": [
      "accuracy    0.7225352112676057\n",
      "precision   0.7226533786346861\n",
      "recall      0.707300473874548\n"
     ]
    }
   ],
   "source": [
    "p = qda.predict(z)\n",
    "\n",
    "confusion_matrix          = project.confusion_matrix (t,p)\n",
    "accuracy,precision,recall = project.present_metrics  (t,p)"
   ]
  },
  {
   "cell_type": "markdown",
   "id": "bfd91600",
   "metadata": {},
   "source": [
    "<b>score board</b> — QDA<br>\n",
    "<pre>\n",
    "pipeline         accuracy  precision recall     cm_d\n",
    "\n",
    "en_core_web_lg   .72253521 .72265337 .70730047  181 224 108\n",
    "en_core_web_lg   .72380952 .71994379 .70806959  175 189  92  without outliers (pm=LOF)\n",
    "en_core_web_lg   .72149122 .71151823 .69240557  110 162  57  without outliers (pm=IF)\n",
    "\n",
    "en_core_web_trf  .47390691 .35185723 .44113121  103 233   0\n",
    "en_core_web_trf  .52348993 .35826616 .44445787   86 226   0  without outliers (pm=LOF)\n",
    "en_core_web_trf  .55279503 .39885185 .46371570   49 129   0  without outliers (pm=IF)\n",
    "\n",
    "</pre>"
   ]
  },
  {
   "cell_type": "markdown",
   "id": "60068128",
   "metadata": {},
   "source": [
    "<br>"
   ]
  }
 ],
 "metadata": {
  "kernelspec": {
   "display_name": "Python 3 (ipykernel)",
   "language": "python",
   "name": "python3"
  },
  "language_info": {
   "codemirror_mode": {
    "name": "ipython",
    "version": 3
   },
   "file_extension": ".py",
   "mimetype": "text/x-python",
   "name": "python",
   "nbconvert_exporter": "python",
   "pygments_lexer": "ipython3",
   "version": "3.9.7"
  }
 },
 "nbformat": 4,
 "nbformat_minor": 5
}

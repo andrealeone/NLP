{
 "cells": [
  {
   "cell_type": "markdown",
   "id": "55363187",
   "metadata": {},
   "source": [
    "<br>\n",
    "<u>Notebook Six</u> | \n",
    "<a href=https://github.com/andrealeone/NLP target=_blank>Repository</a>\n",
    "<br><br>\n",
    "<b>Nearest Neighbors and Outliers Detection</b><br><br>\n",
    "Andrea Leone<br>\n",
    "University of Trento<br>\n",
    "January 2022\n",
    "<br><br>"
   ]
  },
  {
   "cell_type": "code",
   "execution_count": 1,
   "id": "ba85d00c",
   "metadata": {},
   "outputs": [],
   "source": [
    "import project \n",
    "\n",
    "import sklearn\n",
    "import sklearn.neighbors\n",
    "import sklearn.ensemble\n",
    "\n",
    "project.notebook()"
   ]
  },
  {
   "cell_type": "code",
   "execution_count": 2,
   "id": "f4beef2f",
   "metadata": {},
   "outputs": [
    {
     "name": "stdout",
     "output_type": "stream",
     "text": [
      "train_set  =>  (0, 1376) (1, 1572) (2, 1052) \n",
      "test_set   =>  (0,  243) (1,  275) (2,  192) \n"
     ]
    }
   ],
   "source": [
    "records = project.sql_query(\"\"\" \n",
    "    SELECT vector, category FROM talks\n",
    "    WHERE  vector IS NOT NULL\n",
    "    ORDER BY slug ASC;\n",
    "\"\"\")\n",
    "\n",
    "(x, y), (z, t)                       \\\n",
    "    = train_set, test_set            \\\n",
    "    = splits                         \\\n",
    "    = project.split_in_sets( records )\n",
    "\n",
    "project.describe_sets(splits)"
   ]
  },
  {
   "cell_type": "markdown",
   "id": "54ce9fdf",
   "metadata": {},
   "source": [
    "<br/>"
   ]
  },
  {
   "cell_type": "markdown",
   "id": "d42ee412",
   "metadata": {},
   "source": [
    "### NearestCentroid Classifier"
   ]
  },
  {
   "cell_type": "markdown",
   "id": "23383bdf",
   "metadata": {},
   "source": [
    "<br>\n",
    "A nearest centroid classifier is a classification model that assigns to observations the label of the class of training samples whose mean (centroid) is closest to the observation. Euclidean distance is the default metric used to compute the interspace between instances.<br/>\n",
    "<br>"
   ]
  },
  {
   "cell_type": "code",
   "execution_count": 3,
   "id": "a7740dbe",
   "metadata": {},
   "outputs": [],
   "source": [
    "nc  = sklearn.neighbors.NearestCentroid().fit(x,y)"
   ]
  },
  {
   "cell_type": "code",
   "execution_count": 4,
   "id": "e9ba0540",
   "metadata": {},
   "outputs": [
    {
     "data": {
      "image/png": "[encoded data removed]",
      "text/plain": [
       "<Figure size 432x288 with 1 Axes>"
      ]
     },
     "metadata": {
      "needs_background": "light"
     },
     "output_type": "display_data"
    },
    {
     "name": "stdout",
     "output_type": "stream",
     "text": [
      "accuracy    0.6366197183098592\n",
      "precision   0.6310483706263429\n",
      "recall      0.6231729330340441\n"
     ]
    }
   ],
   "source": [
    "p   = nc.predict(z)\n",
    "\n",
    "confusion_matrix          = project.confusion_matrix (t,p)\n",
    "accuracy,precision,recall = project.present_metrics  (t,p)"
   ]
  },
  {
   "cell_type": "markdown",
   "id": "e70912b7",
   "metadata": {},
   "source": [
    "<b>score board</b> — NearestCentroid<br>\n",
    "<pre>\n",
    "pipeline         accuracy  precision recall     cm_d\n",
    "\n",
    "en_core_web_lg   .63661971 .63104837 .62317293  150 204  98\n",
    "en_core_web_lg   .64603174 .63519903 .63491569  152 167  88  without outliers (pm=LOF)\n",
    "en_core_web_lg   .67982456 .66279152 .65754219  105 148  57  without outliers (pm=IF)\n",
    "\n",
    "en_core_web_trf  .41043723 .41442327 .40269239  135  90  66\n",
    "en_core_web_trf  .40771812 .40518234 .40022292   88 106  49  without outliers (pm=LOF)\n",
    "en_core_web_trf  .43167701 .42130935 .42467788   54  58  27  without outliers (pm=IF)\n",
    "\n",
    "</pre>"
   ]
  },
  {
   "cell_type": "markdown",
   "id": "c2bc7e82",
   "metadata": {},
   "source": [
    "<br/>"
   ]
  },
  {
   "cell_type": "markdown",
   "id": "a0e0ed3c",
   "metadata": {},
   "source": [
    "### K-Neighbors Classifier"
   ]
  },
  {
   "cell_type": "markdown",
   "id": "82567761",
   "metadata": {},
   "source": [
    "<br>\n",
    "The KNN classifier is a non-parametric method that outputs the probability that the input point belongs to a class. The classification is the result of a plurality vote of its k neighbors. Weights and algorithm can be tuned.<br/>\n",
    "<br>"
   ]
  },
  {
   "cell_type": "code",
   "execution_count": 5,
   "id": "ee16fa63",
   "metadata": {},
   "outputs": [],
   "source": [
    "knc = sklearn.neighbors.KNeighborsClassifier(\n",
    "    n_neighbors=7, weights='distance',\n",
    "    algorithm='ball_tree', leaf_size=50\n",
    ").fit(x,y)"
   ]
  },
  {
   "cell_type": "code",
   "execution_count": 6,
   "id": "c73897fa",
   "metadata": {
    "scrolled": false
   },
   "outputs": [
    {
     "data": {
      "image/png": "[encoded data removed]",
      "text/plain": [
       "<Figure size 432x288 with 1 Axes>"
      ]
     },
     "metadata": {
      "needs_background": "light"
     },
     "output_type": "display_data"
    },
    {
     "name": "stdout",
     "output_type": "stream",
     "text": [
      "accuracy    0.6788732394366197\n",
      "precision   0.6697487757776398\n",
      "recall      0.667469135802469\n"
     ]
    }
   ],
   "source": [
    "p   = knc.predict(z)\n",
    "\n",
    "confusion_matrix          = project.confusion_matrix (t,p)\n",
    "accuracy,precision,recall = project.present_metrics  (t,p)"
   ]
  },
  {
   "cell_type": "markdown",
   "id": "73e6230e",
   "metadata": {},
   "source": [
    "<b>score board</b> — KNeighborsClassifier<br>\n",
    "<pre>\n",
    "pipeline         accuracy  precision recall      cm_d\n",
    "\n",
    "en_core_web_lg   .67887323 .66974877 .66746913   180 198 104\n",
    "en_core_web_lg   .71587301 .70719417 .70272845   181 174  96  without outliers (pm=LOF)\n",
    "en_core_web_lg   .72807017 .70811300 .70502846   118 154  60  without outliers (pm=IF)\n",
    "\n",
    "en_core_web_trf  .53878702 .51926733 .51939140   153 173  56\n",
    "en_core_web_trf  .50167785 .47172080 .47153926   101 157  41  without outliers (pm=LOF)\n",
    "en_core_web_trf  .51863354 .49376640 .49577381    65  77  25  without outliers (pm=IF)\n",
    "\n",
    "</pre>"
   ]
  },
  {
   "cell_type": "markdown",
   "id": "e6fc0bb5",
   "metadata": {},
   "source": [
    "<br/>"
   ]
  },
  {
   "cell_type": "markdown",
   "id": "046e6bcb",
   "metadata": {},
   "source": [
    "### Local Outlier Factor Classifier"
   ]
  },
  {
   "cell_type": "markdown",
   "id": "2ad51824",
   "metadata": {},
   "source": [
    "<br>\n",
    "The LOF algorithm is used as an unsupervised outlier detector.  \n",
    "The anomaly score of each sample is called Local Outlier Factor: it measures the local deviation of density of a given sample with respect to its neighbors. It is local in that the anomaly score depends on how isolated the object is with respect to the surrounding neighborhood. More precisely, locality is given by k-nearest neighbors, whose distance is used to estimate the local density. By comparing the local density of a sample to the local densities of its neighbors, one can identify samples that have a substantially lower density than their neighbors. These are considered outliers.<br/>\n",
    "<br>"
   ]
  },
  {
   "cell_type": "code",
   "execution_count": 7,
   "id": "ea9e847e",
   "metadata": {},
   "outputs": [],
   "source": [
    "outliers = sklearn.neighbors.LocalOutlierFactor().fit_predict([x for x,y in records])"
   ]
  },
  {
   "cell_type": "code",
   "execution_count": 8,
   "id": "99495f22",
   "metadata": {},
   "outputs": [
    {
     "name": "stdout",
     "output_type": "stream",
     "text": [
      "Data reduced from 4710 to 4630 (-1.70%).\n",
      "\n",
      "train_set  =>  (0, 1332) (1, 1541) (2, 1027) \n",
      "test_set   =>  (0,  268) (1,  272) (2,  190) \n"
     ]
    }
   ],
   "source": [
    "records2 = project.remove_outliers (records,  outliers)\n",
    "splits2  = project.split_in_sets   (records2, splitting_value=3900)\n",
    "\n",
    "project.describe_sets(splits2)"
   ]
  },
  {
   "cell_type": "markdown",
   "id": "b6c51d00",
   "metadata": {},
   "source": [
    "<br/>"
   ]
  },
  {
   "cell_type": "markdown",
   "id": "2ff45a19",
   "metadata": {},
   "source": [
    "### Isolation Forest Classifier"
   ]
  },
  {
   "cell_type": "markdown",
   "id": "d83c2d16",
   "metadata": {},
   "source": [
    "<br>\n",
    "The IsolationForest algorithm returns the anomaly score for each sample.  \n",
    "It isolates observations by randomly selecting a feature and then randomly selecting a split value between the maximum and minimum values of the selected feature. Since recursive partitioning can be represented by a tree structure, the number of splittings required to isolate a sample is equivalent to the path length from the root node to the terminating node. This path length, averaged over a forest of such random trees, is a measure of normality and our decision function.  \n",
    "  \n",
    "Random partitioning produces noticeably shorter paths for anomalies. Hence, when a forest of random trees collectively produce shorter path lengths for particular samples, they are highly likely to be anomalies.<br/>\n",
    "<br>"
   ]
  },
  {
   "cell_type": "code",
   "execution_count": 9,
   "id": "45dd1fdb",
   "metadata": {},
   "outputs": [],
   "source": [
    "outliers = sklearn.ensemble.IsolationForest(random_state=42).fit_predict([x for x,y in records])"
   ]
  },
  {
   "cell_type": "code",
   "execution_count": 10,
   "id": "ec7306d3",
   "metadata": {},
   "outputs": [
    {
     "name": "stdout",
     "output_type": "stream",
     "text": [
      "Data reduced from 4710 to 4456 (-5.39%).\n",
      "\n",
      "train_set  =>  (0, 1358) (1, 1519) (2, 1023) \n",
      "test_set   =>  (0,  181) (1,  230) (2,  145) \n"
     ]
    }
   ],
   "source": [
    "records3 = project.remove_outliers (records,  outliers)\n",
    "splits3  = project.split_in_sets   (records3, splitting_value=3900)\n",
    "\n",
    "project.describe_sets(splits3)"
   ]
  },
  {
   "cell_type": "markdown",
   "id": "ff6c6060",
   "metadata": {},
   "source": [
    "<br>"
   ]
  }
 ],
 "metadata": {
  "kernelspec": {
   "display_name": "Python 3 (ipykernel)",
   "language": "python",
   "name": "python3"
  },
  "language_info": {
   "codemirror_mode": {
    "name": "ipython",
    "version": 3
   },
   "file_extension": ".py",
   "mimetype": "text/x-python",
   "name": "python",
   "nbconvert_exporter": "python",
   "pygments_lexer": "ipython3",
   "version": "3.9.7"
  }
 },
 "nbformat": 4,
 "nbformat_minor": 5
}

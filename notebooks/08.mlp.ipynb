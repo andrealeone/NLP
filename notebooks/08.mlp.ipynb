{
 "cells": [
  {
   "cell_type": "markdown",
   "id": "acbbcf5a",
   "metadata": {},
   "source": [
    "<br>\n",
    "<u>Notebook Eight</u> | \n",
    "<a href=https://leone.gdn/NLP target=_blank>Report</a> | \n",
    "<a href=https://github.com/andrealeone/NLP target=_blank>Repository</a>\n",
    "<br><br>\n",
    "<b>Multi-Layer Perceptron</b><br><br>\n",
    "Andrea Leone<br>\n",
    "ML for NLP — University of Trento<br>\n",
    "January 2022\n",
    "<hr><br><br>"
   ]
  },
  {
   "cell_type": "code",
   "execution_count": 1,
   "id": "facdf25c",
   "metadata": {},
   "outputs": [],
   "source": [
    "import project \n",
    "\n",
    "import numpy as np\n",
    "import sklearn\n",
    "import sklearn.neural_network\n",
    "\n",
    "\n",
    "project.notebook()"
   ]
  },
  {
   "cell_type": "code",
   "execution_count": 2,
   "id": "759dd932",
   "metadata": {},
   "outputs": [
    {
     "name": "stdout",
     "output_type": "stream",
     "text": [
      "train_set  =>  (0, 1376) (1, 1572) (2, 1052) \n",
      "test_set   =>  (0,  243) (1,  275) (2,  192) \n"
     ]
    }
   ],
   "source": [
    "records = project.sql_query(\"\"\" \n",
    "    SELECT vector, category FROM talks\n",
    "    WHERE  vector IS NOT NULL\n",
    "    ORDER BY slug ASC;\n",
    "\"\"\")\n",
    "\n",
    "(x, y), (z, t)                       \\\n",
    "    = train_set, test_set            \\\n",
    "    = splits                         \\\n",
    "    = project.split_in_sets( records )\n",
    "\n",
    "project.describe_sets(splits)"
   ]
  },
  {
   "cell_type": "markdown",
   "id": "29086071",
   "metadata": {},
   "source": [
    "<br/>"
   ]
  },
  {
   "cell_type": "markdown",
   "id": "cacec67f",
   "metadata": {},
   "source": [
    "### Multi-Layer Perceptron Classifier"
   ]
  },
  {
   "cell_type": "code",
   "execution_count": 3,
   "id": "4d494851",
   "metadata": {},
   "outputs": [
    {
     "data": {
      "image/png": "[encoded data removed]",
      "text/plain": [
       "<Figure size 432x288 with 1 Axes>"
      ]
     },
     "metadata": {
      "needs_background": "light"
     },
     "output_type": "display_data"
    },
    {
     "name": "stdout",
     "output_type": "stream",
     "text": [
      "accuracy    0.752112676056338\n",
      "precision   0.7526506630661439\n",
      "recall      0.7428946876169098\n"
     ]
    }
   ],
   "source": [
    "mlp = sklearn.neural_network.MLPClassifier ( \n",
    "    hidden_layer_sizes=100, activation='relu',\n",
    "    solver='adam', epsilon=1e-08, alpha=0.0001,\n",
    "    learning_rate_init=0.001, learning_rate='adaptive',\n",
    "    batch_size=300, validation_fraction=0.3,\n",
    "    random_state=42\n",
    ").fit(x, y)\n",
    "\n",
    "p = mlp.predict(z)\n",
    "\n",
    "confusion_matrix          = project.confusion_matrix (t,p)\n",
    "accuracy,precision,recall = project.present_metrics  (t,p)"
   ]
  },
  {
   "cell_type": "markdown",
   "id": "f5ad4186",
   "metadata": {},
   "source": [
    "<b>Fine tuning trials</b> — static word embeddings \n",
    "<pre>\n",
    "accuracy       precision      recall         cm_d         notes\n",
    "\n",
    ".747619047619  .744495684007  .737277713195  180 184 107  a=tanh,    s=adam,  bs=300, hls=100, LOF out.rem.\n",
    ".730263157894  .716718202432  .716631859469  115 150  68  a=tanh,    s=adam,  bs=300, hls=100, IF  out.rem.\n",
    ".742253521126  .740463145882  .731880144032  186 220 121  a=tanh,    s=adam,  bs=300, hls=150\n",
    ".747887323943  .751738628987  .735201786382  183 229 119  a=tanh,    s=adam,  bs=200, hls=150\n",
    ".752112676056  .749234046828  .753603473001  200 192 142  a=tanh,    s=adam,  bs=300, hls=100\n",
    ".745070422535  .741344655584  .743212214739  186 205 138  a=tanh,    s=adam,  bs=200, hls=100\n",
    ".670422535211  .668596863119  .637938957475  185 231  60  a=tanh,    s=sgd,   bs=200, hls=100\n",
    ".738028169014  .733570644813  .729361126699  193 210 121  a=tanh,    s=lbfgs, bs=200, hls=100\n",
    "\n",
    ".736507936507  .731063409876  .727594855755  178 178 108  a=relu,    s=adam,  bs=300, hls=100, LOF out.rem.\n",
    ".725877192982  .714500374177  .719048704001  109 148  74  a=relu,    s=adam,  bs=300, hls=100, IF  out.rem.\n",
    ".752112676056  .752650663066  .742894687616  192 218 124  a=relu,    s=adam,  bs=300, hls=100\n",
    ".746478873239  .742927527018  .746839537348  188 200 142  a=relu,    s=adam,  bs=300, hls=120\n",
    ".746478873239  .741826820102  .742716984661  195 203 132  a=relu,    s=adam,  bs=300, hls=150\n",
    ".747887323943  .747215922948  .739941934779  193 213 125  a=relu,    s=adam,  bs=300, hls=200\n",
    ".745070422535  .743187382560  .736903448060  199 208 122  a=relu,    s=adam,  bs=200, hls=100\n",
    ".650704225352  .663359136385  .611492315126  188 233  41  a=relu,    s=sgd,   bs=200, hls=100\n",
    ".723943661971  .720177773146  .716077441077  189 205 120  a=relu,    s=lbfgs, bs=200, hls=100\n",
    "\n",
    ".743661971830  .739589958962  .737832413642  196 205 127  a=sigmoid, s=adam,  bs=200, hls=100\n",
    ".728169014084  .724028089397  .719189814814  189 209 119  a=sigmoid, s=lbfgs, bs=200, hls=100\n",
    "\n",
    "</pre>"
   ]
  },
  {
   "cell_type": "markdown",
   "id": "5bfb6b29",
   "metadata": {},
   "source": [
    "<br>"
   ]
  }
 ],
 "metadata": {
  "kernelspec": {
   "display_name": "Python 3 (ipykernel)",
   "language": "python",
   "name": "python3"
  },
  "language_info": {
   "codemirror_mode": {
    "name": "ipython",
    "version": 3
   },
   "file_extension": ".py",
   "mimetype": "text/x-python",
   "name": "python",
   "nbconvert_exporter": "python",
   "pygments_lexer": "ipython3",
   "version": "3.9.7"
  }
 },
 "nbformat": 4,
 "nbformat_minor": 5
}

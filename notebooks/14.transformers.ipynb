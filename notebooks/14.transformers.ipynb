{
 "cells": [
  {
   "cell_type": "markdown",
   "id": "2744681f",
   "metadata": {},
   "source": [
    "<br>\n",
    "<u>Notebook Fourteen</u> | \n",
    "<a href=https://github.com/andrealeone/NLP target=_blank>Repository</a>\n",
    "<br><br>\n",
    "<b>Transformers</b><br><br>\n",
    "Andrea Leone<br>\n",
    "University of Trento<br>\n",
    "January 2022\n",
    "<br><br>"
   ]
  },
  {
   "cell_type": "code",
   "execution_count": null,
   "id": "facdf25c",
   "metadata": {
    "id": "facdf25c"
   },
   "outputs": [],
   "source": [
    "import project \n",
    "\n",
    "import pandas as pd\n",
    "import numpy  as np\n",
    "\n",
    "import torch\n",
    "import transformers\n",
    "\n",
    "project.notebook()"
   ]
  },
  {
   "cell_type": "code",
   "execution_count": null,
   "id": "759dd932",
   "metadata": {
    "id": "759dd932"
   },
   "outputs": [],
   "source": [
    "# df = pd.read_csv('./data/talks.csv') \n",
    "# records = df[['transcript','category']][~df['transcript'].isnull()].to_numpy()\n",
    "\n",
    "records = project.sql_query(\"\"\" \n",
    "    SELECT transcript, category FROM talks\n",
    "    WHERE  transcript IS NOT NULL\n",
    "    ORDER BY slug ASC;\n",
    "\"\"\")\n",
    "\n",
    "(x, y), (z, t)                       \\\n",
    "    = train_set, test_set            \\\n",
    "    = splits                         \\\n",
    "    = project.split_in_sets( records )\n",
    "\n",
    "project.describe_sets(splits)\n",
    "device = torch.device('cpu')"
   ]
  },
  {
   "cell_type": "markdown",
   "id": "d422b844",
   "metadata": {},
   "source": [
    "<br>"
   ]
  },
  {
   "cell_type": "markdown",
   "id": "McbIgCgXOJfO",
   "metadata": {
    "id": "McbIgCgXOJfO"
   },
   "source": [
    "### BERT"
   ]
  },
  {
   "cell_type": "markdown",
   "id": "c40ff85b",
   "metadata": {},
   "source": [
    "<br>"
   ]
  },
  {
   "cell_type": "code",
   "execution_count": null,
   "id": "m-U1OIc3qor4",
   "metadata": {
    "id": "m-U1OIc3qor4"
   },
   "outputs": [],
   "source": [
    "model_type = 'bert-base-cased' \n",
    "model = transformers.BertForSequenceClassification.from_pretrained (\n",
    "    model_type, num_labels = 3,\n",
    "    output_attentions      = False,\n",
    "    output_hidden_states   = False\n",
    ").to(device)\n",
    "\n",
    "tokenizer = transformers.BertTokenizer.from_pretrained(model_type)\n",
    "optimizer = transformers.AdamW ( model.parameters(), lr=2e-5, eps=1e-8 )"
   ]
  },
  {
   "cell_type": "code",
   "execution_count": null,
   "id": "DdDCNs_yel75",
   "metadata": {
    "id": "DdDCNs_yel75"
   },
   "outputs": [],
   "source": [
    "epochs      =  5 \n",
    "model_name  = './models/BERT.v{}.{}.net'.format(1, epochs)\n",
    "performance = project.train_trf (model, x, y, tokenizer, optimizer, device, epochs, li=500)\n",
    "results     = project.test_trf  (model, z, t, tokenizer, device)\n",
    "\n",
    "project.export(model, model_name)"
   ]
  },
  {
   "cell_type": "markdown",
   "id": "b8e206b3",
   "metadata": {},
   "source": [
    "<br>"
   ]
  },
  {
   "cell_type": "markdown",
   "id": "d41b8bb0",
   "metadata": {},
   "source": [
    "### RoBERTa"
   ]
  },
  {
   "cell_type": "markdown",
   "id": "d2156193",
   "metadata": {},
   "source": [
    "<br>"
   ]
  },
  {
   "cell_type": "code",
   "execution_count": null,
   "id": "73174de9",
   "metadata": {},
   "outputs": [],
   "source": [
    "model_type = 'roberta-base' \n",
    "model = transformers.RobertaForSequenceClassification.from_pretrained (\n",
    "    model_type, num_labels = 3,\n",
    "    output_attentions      = False,\n",
    "    output_hidden_states   = False\n",
    ").to(device)\n",
    "\n",
    "tokenizer = transformers.RobertaTokenizerFast.from_pretrained(model_type)\n",
    "optimizer = transformers.AdamW ( model.parameters(), lr=2e-5, eps=1e-8 )"
   ]
  },
  {
   "cell_type": "code",
   "execution_count": null,
   "id": "647d1018",
   "metadata": {},
   "outputs": [],
   "source": [
    "epochs      =  5 \n",
    "model_name  = './models/RoBERTa.v{}.{}.net'.format(1, epochs)\n",
    "performance = project.train_trf (model, x, y, tokenizer, optimizer, device, epochs, li=500)\n",
    "results     = project.test_trf  (model, z, t, tokenizer, device)\n",
    "\n",
    "project.export(model, model_name)"
   ]
  },
  {
   "cell_type": "markdown",
   "id": "b8a4e7b4",
   "metadata": {},
   "source": [
    "<br>"
   ]
  },
  {
   "cell_type": "markdown",
   "id": "0PAfZQpN2X1m",
   "metadata": {
    "id": "0PAfZQpN2X1m"
   },
   "source": [
    "### DistilBERT"
   ]
  },
  {
   "cell_type": "markdown",
   "id": "594bf134",
   "metadata": {},
   "source": [
    "<br>"
   ]
  },
  {
   "cell_type": "code",
   "execution_count": null,
   "id": "grwMhiCd2VMU",
   "metadata": {
    "id": "grwMhiCd2VMU"
   },
   "outputs": [],
   "source": [
    "model_type = 'distilbert-base-cased' \n",
    "model = transformers.DistilBertForSequenceClassification.from_pretrained (\n",
    "    model_type, num_labels = 3,\n",
    "    output_attentions      = False,\n",
    "    output_hidden_states   = False\n",
    ").to(device)\n",
    "\n",
    "tokenizer = transformers.DistilBertTokenizer.from_pretrained(model_type)\n",
    "optimizer = transformers.AdamW ( model.parameters(), lr=2e-5, eps=1e-8 )"
   ]
  },
  {
   "cell_type": "code",
   "execution_count": null,
   "id": "35b0b186",
   "metadata": {},
   "outputs": [],
   "source": [
    "epochs      =  5 \n",
    "model_name  = './models/DistilBERT.v{}.{}.net'.format(1, epochs)\n",
    "performance = project.train_trf (model, x, y, tokenizer, optimizer, device, epochs, li=500)\n",
    "results     = project.test_trf  (model, z, t, tokenizer, device)\n",
    "\n",
    "project.export(model, model_name)"
   ]
  },
  {
   "cell_type": "markdown",
   "id": "62e7d1fd",
   "metadata": {},
   "source": [
    "<br>"
   ]
  },
  {
   "cell_type": "markdown",
   "id": "BqJ78-6kmDb5",
   "metadata": {
    "id": "BqJ78-6kmDb5"
   },
   "source": [
    "### SqueezeBERT\n"
   ]
  },
  {
   "cell_type": "markdown",
   "id": "c614a7e8",
   "metadata": {},
   "source": [
    "<br>"
   ]
  },
  {
   "cell_type": "code",
   "execution_count": null,
   "id": "xCMlT7QAmRbV",
   "metadata": {
    "id": "xCMlT7QAmRbV"
   },
   "outputs": [],
   "source": [
    "model_type = 'squeezebert/squeezebert-uncased' \n",
    "model = transformers.SqueezeBertForSequenceClassification.from_pretrained (\n",
    "    model_type, num_labels = 3,\n",
    "    output_attentions      = False,\n",
    "    output_hidden_states   = False\n",
    ").to(device)\n",
    "\n",
    "tokenizer = transformers.SqueezeBertTokenizer.from_pretrained(model_type)\n",
    "optimizer = transformers.AdamW ( model.parameters(), lr=2e-5, eps=1e-8 )"
   ]
  },
  {
   "cell_type": "code",
   "execution_count": null,
   "id": "9ZHdSqEAdk_Y",
   "metadata": {
    "id": "9ZHdSqEAdk_Y"
   },
   "outputs": [],
   "source": [
    "# used in the training session\n",
    "\n",
    "version     =  1 \n",
    "from_epoch  = 15\n",
    "\n",
    "model.load_state_dict ( \n",
    "    torch.load('./models/SqueezeBERT.v{}.{}.net'.format(version, from_epoch), map_location=device),\n",
    ")"
   ]
  },
  {
   "cell_type": "code",
   "execution_count": null,
   "id": "b86abdbd",
   "metadata": {},
   "outputs": [],
   "source": [
    "epochs      =  5 \n",
    "model_name  = './models/SqueezeBERT.v{}.{}.net'.format(1, epochs)\n",
    "performance = project.train_trf (model, x, y, tokenizer, optimizer, device, epochs, li=500)\n",
    "results     = project.test_trf  (model, z, t, tokenizer, device)\n",
    "\n",
    "project.export(model, model_name)"
   ]
  },
  {
   "cell_type": "markdown",
   "id": "e94a4c0b",
   "metadata": {},
   "source": [
    "<br>"
   ]
  },
  {
   "cell_type": "markdown",
   "id": "ce9f2aad",
   "metadata": {},
   "source": [
    "### Nyströmformer [experiment]"
   ]
  },
  {
   "cell_type": "markdown",
   "id": "bc829cef",
   "metadata": {},
   "source": [
    "<br>"
   ]
  },
  {
   "cell_type": "code",
   "execution_count": null,
   "id": "78e0d2fd",
   "metadata": {},
   "outputs": [],
   "source": [
    "from transformers import AutoTokenizer, NystromformerForSequenceClassification\n",
    "\n",
    "model_name = \"uw-madison/nystromformer-512\"\n",
    "model      =  NystromformerForSequenceClassification.from_pretrained(model_name) \n",
    "tokenizer  =  AutoTokenizer.from_pretrained(model_name) \n",
    "\n",
    "inputs  = tokenizer(x[0][:2300], return_tensors=\"pt\")\n",
    "labels  = torch.tensor([1]).unsqueeze(0)  # Batch size 1\n",
    "\n",
    "outputs = model(**inputs, labels=labels)\n",
    "\n",
    "loss    = outputs.loss\n",
    "logits  = outputs.logits"
   ]
  },
  {
   "cell_type": "code",
   "execution_count": null,
   "id": "ab996cb6",
   "metadata": {},
   "outputs": [],
   "source": [
    "len(tokenizer(x[0][:2300], return_tensors=\"pt\")['input_ids'][0]) "
   ]
  },
  {
   "cell_type": "markdown",
   "id": "ca01bc5a",
   "metadata": {},
   "source": [
    "<br><br>"
   ]
  },
  {
   "cell_type": "markdown",
   "id": "YKp0pDfbmPgb",
   "metadata": {
    "id": "YKp0pDfbmPgb"
   },
   "source": [
    "### Results"
   ]
  },
  {
   "cell_type": "markdown",
   "id": "48327c54",
   "metadata": {},
   "source": [
    "<br>"
   ]
  },
  {
   "cell_type": "markdown",
   "id": "8151a84f",
   "metadata": {},
   "source": [
    "<b>Transformers score board</b> \n",
    "<pre>\n",
    "model         accuracy    precision   recall      es\n",
    "\n",
    "BERT          .34837799   .11612599   .3           5\n",
    "BERT          .87447108   .87162724   .87438515   10\n",
    "BERT          .92806770   .92677159   .92359018   15\n",
    "BERT          .93229901   .93357080   .92739973   20\n",
    "\n",
    "RoBERTa       .34837799   .11612599   .3           5\n",
    "RoBERTa       .68928067    —           —          10\n",
    "RoBERTa       .80253878   .80112364   .79699835   15\n",
    "RoBERTa       .85190409   .85917919   .83747284   20\n",
    "\n",
    "DistilBERT    .92242595   .92319025   .91704217    5\n",
    "DistilBERT    .94781382   .94554739   .94635791   10\n",
    "DistilBERT    .92806770   .92449340   .92972718   15\n",
    "DistilBERT    .92383638   .92122829   .92547669   20\n",
    "\n",
    "SqueezeBERT   .90409026   .90895179   .89725193    5\n",
    "SqueezeBERT   .93229901   .93061917   .93270826   10\n",
    "SqueezeBERT   .95345557   .95080893   .95318207   15\n",
    "SqueezeBERT   .94499294   .94611277   .94207616   20\n",
    "</pre>"
   ]
  },
  {
   "cell_type": "markdown",
   "id": "daf479ea",
   "metadata": {},
   "source": [
    "<br>"
   ]
  }
 ],
 "metadata": {
  "accelerator": "GPU",
  "colab": {
   "collapsed_sections": [],
   "name": "10.transformers.ipynb",
   "provenance": []
  },
  "kernelspec": {
   "display_name": "Python 3 (ipykernel)",
   "language": "python",
   "name": "python3"
  },
  "language_info": {
   "codemirror_mode": {
    "name": "ipython",
    "version": 3
   },
   "file_extension": ".py",
   "mimetype": "text/x-python",
   "name": "python",
   "nbconvert_exporter": "python",
   "pygments_lexer": "ipython3",
   "version": "3.9.7"
  }
 },
 "nbformat": 4,
 "nbformat_minor": 5
}

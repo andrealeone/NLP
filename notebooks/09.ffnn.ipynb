{
 "cells": [
  {
   "cell_type": "markdown",
   "id": "f7d46c5c",
   "metadata": {},
   "source": [
    "<br>\n",
    "<u>Notebook Nine</u> | \n",
    "<a href=https://leone.gdn/NLP target=_blank>Report</a> | \n",
    "<a href=https://github.com/andrealeone/NLP target=_blank>Repository</a>\n",
    "<br><br>\n",
    "<b>Feed-Forward Neural Network</b><br><br>\n",
    "Andrea Leone<br>\n",
    "ML for NLP — University of Trento<br>\n",
    "January 2022\n",
    "<hr><br><br>"
   ]
  },
  {
   "cell_type": "code",
   "execution_count": 1,
   "id": "facdf25c",
   "metadata": {},
   "outputs": [],
   "source": [
    "import project \n",
    "\n",
    "import numpy as np\n",
    "import torch\n",
    "\n",
    "project.notebook()"
   ]
  },
  {
   "cell_type": "code",
   "execution_count": 2,
   "id": "759dd932",
   "metadata": {},
   "outputs": [
    {
     "name": "stdout",
     "output_type": "stream",
     "text": [
      "train_set  =>  (0, 1376) (1, 1572) (2, 1052) \n",
      "test_set   =>  (0,  243) (1,  275) (2,  192) \n"
     ]
    }
   ],
   "source": [
    "records = project.sql_query(\"\"\" \n",
    "    SELECT vector, category FROM talks\n",
    "    WHERE  vector IS NOT NULL\n",
    "    ORDER BY slug ASC;\n",
    "\"\"\")\n",
    "\n",
    "(x, y), (z, t)                       \\\n",
    "    = train_set, test_set            \\\n",
    "    = splits                         \\\n",
    "    = project.split_in_sets( records )\n",
    "\n",
    "project.describe_sets(splits)"
   ]
  },
  {
   "cell_type": "markdown",
   "id": "29086071",
   "metadata": {},
   "source": [
    "<br/>"
   ]
  },
  {
   "cell_type": "markdown",
   "id": "cacec67f",
   "metadata": {},
   "source": [
    "### Feed-Forward Neural Network in PyTorch"
   ]
  },
  {
   "cell_type": "code",
   "execution_count": 3,
   "id": "377cc5af",
   "metadata": {
    "scrolled": false
   },
   "outputs": [
    {
     "name": "stdout",
     "output_type": "stream",
     "text": [
      "Network(\n",
      "  (fc1): Linear(in_features=300, out_features=200, bias=True)\n",
      "  (fc2): Linear(in_features=200, out_features=100, bias=True)\n",
      "  (fc3): Linear(in_features=100, out_features=50, bias=True)\n",
      "  (fc4): Linear(in_features=50, out_features=10, bias=True)\n",
      "  (fc5): Linear(in_features=10, out_features=3, bias=True)\n",
      ")\n",
      "AdamW (\n",
      "Parameter Group 0\n",
      "    amsgrad: False\n",
      "    betas: (0.9, 0.999)\n",
      "    eps: 1e-08\n",
      "    lr: 0.001\n",
      "    weight_decay: 0.01\n",
      ")\n",
      "CrossEntropyLoss()\n",
      "\n",
      "TRAINING\n"
     ]
    },
    {
     "data": {
      "application/vnd.jupyter.widget-view+json": {
       "model_id": "4b8f450cd14f4a0ba3d4a7f310dcc1d5",
       "version_major": 2,
       "version_minor": 0
      },
      "text/plain": [
       "  0%|          | 0/4000 [00:00<?, ?it/s]"
      ]
     },
     "metadata": {},
     "output_type": "display_data"
    },
    {
     "name": "stdout",
     "output_type": "stream",
     "text": [
      "loss 1000:  1.069\n",
      "loss 2000:  0.921\n",
      "loss 3000:  0.785\n",
      "loss 4000:  0.762\n"
     ]
    },
    {
     "data": {
      "application/vnd.jupyter.widget-view+json": {
       "model_id": "ae5f8db6819f4fffb764aa998e29330d",
       "version_major": 2,
       "version_minor": 0
      },
      "text/plain": [
       "  0%|          | 0/4000 [00:00<?, ?it/s]"
      ]
     },
     "metadata": {},
     "output_type": "display_data"
    },
    {
     "name": "stdout",
     "output_type": "stream",
     "text": [
      "loss 1000:  0.712\n",
      "loss 2000:  0.696\n",
      "loss 3000:  0.695\n",
      "loss 4000:  0.692\n"
     ]
    },
    {
     "data": {
      "application/vnd.jupyter.widget-view+json": {
       "model_id": "901fc5ce3c0d4e86a946573db7a84b22",
       "version_major": 2,
       "version_minor": 0
      },
      "text/plain": [
       "  0%|          | 0/4000 [00:00<?, ?it/s]"
      ]
     },
     "metadata": {},
     "output_type": "display_data"
    },
    {
     "name": "stdout",
     "output_type": "stream",
     "text": [
      "loss 1000:  0.656\n",
      "loss 2000:  0.645\n",
      "loss 3000:  0.673\n",
      "loss 4000:  0.662\n"
     ]
    },
    {
     "data": {
      "application/vnd.jupyter.widget-view+json": {
       "model_id": "53c01ba647214c719de2385a5b285976",
       "version_major": 2,
       "version_minor": 0
      },
      "text/plain": [
       "  0%|          | 0/4000 [00:00<?, ?it/s]"
      ]
     },
     "metadata": {},
     "output_type": "display_data"
    },
    {
     "name": "stdout",
     "output_type": "stream",
     "text": [
      "loss 1000:  0.638\n",
      "loss 2000:  0.622\n",
      "loss 3000:  0.655\n",
      "loss 4000:  0.652\n"
     ]
    },
    {
     "data": {
      "application/vnd.jupyter.widget-view+json": {
       "model_id": "ef11e12110ff436d894d508a6bcc6d0c",
       "version_major": 2,
       "version_minor": 0
      },
      "text/plain": [
       "  0%|          | 0/4000 [00:00<?, ?it/s]"
      ]
     },
     "metadata": {},
     "output_type": "display_data"
    },
    {
     "name": "stdout",
     "output_type": "stream",
     "text": [
      "loss 1000:  0.626\n",
      "loss 2000:  0.608\n",
      "loss 3000:  0.646\n",
      "loss 4000:  0.634\n"
     ]
    },
    {
     "data": {
      "application/vnd.jupyter.widget-view+json": {
       "model_id": "3d819ecd9a9348c2aaaf76a2aa9a330a",
       "version_major": 2,
       "version_minor": 0
      },
      "text/plain": [
       "  0%|          | 0/4000 [00:00<?, ?it/s]"
      ]
     },
     "metadata": {},
     "output_type": "display_data"
    },
    {
     "name": "stdout",
     "output_type": "stream",
     "text": [
      "loss 1000:  0.617\n",
      "loss 2000:  0.594\n",
      "loss 3000:  0.640\n",
      "loss 4000:  0.622\n"
     ]
    },
    {
     "data": {
      "application/vnd.jupyter.widget-view+json": {
       "model_id": "8d0084cc4a7c4813b9ac8909991817c7",
       "version_major": 2,
       "version_minor": 0
      },
      "text/plain": [
       "  0%|          | 0/4000 [00:00<?, ?it/s]"
      ]
     },
     "metadata": {},
     "output_type": "display_data"
    },
    {
     "name": "stdout",
     "output_type": "stream",
     "text": [
      "loss 1000:  0.611\n",
      "loss 2000:  0.590\n",
      "loss 3000:  0.629\n",
      "loss 4000:  0.612\n"
     ]
    },
    {
     "data": {
      "application/vnd.jupyter.widget-view+json": {
       "model_id": "fe9c83c52a0847b69fa28fc43e28c1b9",
       "version_major": 2,
       "version_minor": 0
      },
      "text/plain": [
       "  0%|          | 0/4000 [00:00<?, ?it/s]"
      ]
     },
     "metadata": {},
     "output_type": "display_data"
    },
    {
     "name": "stdout",
     "output_type": "stream",
     "text": [
      "loss 1000:  0.602\n",
      "loss 2000:  0.586\n",
      "loss 3000:  0.627\n",
      "loss 4000:  0.604\n"
     ]
    },
    {
     "data": {
      "application/vnd.jupyter.widget-view+json": {
       "model_id": "df2f291062904cc189c21fa7b2e7046f",
       "version_major": 2,
       "version_minor": 0
      },
      "text/plain": [
       "  0%|          | 0/4000 [00:00<?, ?it/s]"
      ]
     },
     "metadata": {},
     "output_type": "display_data"
    },
    {
     "name": "stdout",
     "output_type": "stream",
     "text": [
      "loss 1000:  0.595\n",
      "loss 2000:  0.574\n",
      "loss 3000:  0.614\n",
      "loss 4000:  0.598\n"
     ]
    },
    {
     "data": {
      "application/vnd.jupyter.widget-view+json": {
       "model_id": "9a8a944ba9ca4330a711c8422dc6a043",
       "version_major": 2,
       "version_minor": 0
      },
      "text/plain": [
       "  0%|          | 0/4000 [00:00<?, ?it/s]"
      ]
     },
     "metadata": {},
     "output_type": "display_data"
    },
    {
     "name": "stdout",
     "output_type": "stream",
     "text": [
      "loss 1000:  0.586\n",
      "loss 2000:  0.574\n",
      "loss 3000:  0.609\n",
      "loss 4000:  0.587\n",
      "\n",
      "TESTING\n"
     ]
    },
    {
     "data": {
      "application/vnd.jupyter.widget-view+json": {
       "model_id": "27c76db2a9094bec8af4adddfb1ee808",
       "version_major": 2,
       "version_minor": 0
      },
      "text/plain": [
       "  0%|          | 0/710 [00:00<?, ?it/s]"
      ]
     },
     "metadata": {},
     "output_type": "display_data"
    },
    {
     "data": {
      "image/png": "[encoded data removed]",
      "text/plain": [
       "<Figure size 432x288 with 1 Axes>"
      ]
     },
     "metadata": {
      "needs_background": "light"
     },
     "output_type": "display_data"
    },
    {
     "name": "stdout",
     "output_type": "stream",
     "text": [
      "accuracy    0.7281690140845071\n",
      "precision   0.7288945615674048\n",
      "recall      0.7290520170844245\n"
     ]
    },
    {
     "data": {
      "image/png": "[encoded data removed]",
      "text/plain": [
       "<Figure size 864x360 with 1 Axes>"
      ]
     },
     "metadata": {
      "needs_background": "light"
     },
     "output_type": "display_data"
    }
   ],
   "source": [
    "class Network(torch.nn.Module): \n",
    "    \n",
    "    def __init__(self):\n",
    "        super().__init__()\n",
    "        \n",
    "        self.fc1  = torch.nn.Linear( 300, 200 )\n",
    "        self.fc2  = torch.nn.Linear( 200, 100 )\n",
    "        self.fc3  = torch.nn.Linear( 100,  50 )\n",
    "        self.fc4  = torch.nn.Linear(  50,  10 )\n",
    "        self.fc5  = torch.nn.Linear(  10,   3 )\n",
    "    \n",
    "    def forward(self, x):\n",
    "        \n",
    "        x = x.reshape(x.shape[0], -1)\n",
    "\n",
    "        x = torch.nn.functional.relu( self.fc1(x) )\n",
    "        x = torch.nn.functional.relu( self.fc2(x) )\n",
    "        x = torch.nn.functional.relu( self.fc3(x) )\n",
    "        x = torch.nn.functional.relu( self.fc4(x) )\n",
    "        x = torch.nn.functional.relu( self.fc5(x) )\n",
    "        \n",
    "        return x\n",
    "\n",
    "model = Network()\n",
    "print(model)\n",
    "\n",
    "criterion = torch.nn.CrossEntropyLoss(\n",
    "    weight=project.class_weights(y, as_type='tensor')\n",
    ")\n",
    "\n",
    "optimizer = torch.optim.AdamW (\n",
    "    model.parameters(),\n",
    "    lr=.001, eps=1e-08, weight_decay=.01\n",
    ")\n",
    "\n",
    "performance = project.train_nn ( model, x, y, criterion,optimizer, epochs=10, li=1000 )\n",
    "results     = project.test_nn  ( model, z, t )\n",
    "\n",
    "t, p, (accuracy,precision,recall), rl = results\n",
    "project.plot_train(performance)"
   ]
  },
  {
   "cell_type": "markdown",
   "id": "08449148",
   "metadata": {},
   "source": [
    "<b>Fine tuning score board</b> — FFNN<br> \n",
    "<pre>\n",
    "accuracy  precision recall     cm_d         opt    ot   fc_s             es  o_ps     afs\n",
    "\n",
    ".70422535 .71778046 .69910104  143 223 134  AdamW   /   100  50  3        5  lr=.001  relu\n",
    ".74366197 .74462098 .73149605  176 231 121  AdamW   /   100  50  3       10  lr=.001  relu\n",
    ".71690140 .71259160 .70573131  172 220 117  AdamW   /   100  50  3       15  lr=.001  relu\n",
    ".73098591 .72506101 .72097557  185 215 119  AdamW   /   100  50  3        5  lr=.001  gelu\n",
    ".73239436 .72760718 .72109458  188 216 116  AdamW   /   100  50  3       10  lr=.001  gelu\n",
    ".73239436 .72809261 .72339529  186 213 121  AdamW   /   100  50  3       15  lr=.001  gelu\n",
    ".72394366 .72099120 .72475628  181 194 139  AdamW   /   100  50  3        5  lr=.001  tanh\n",
    ".72394366 .72102821 .72509976  193 185 136  AdamW   /   100  50  3       10  lr=.001  tanh\n",
    ".72816901 .72196295 .72203875  197 198 122  AdamW   /   100  50  3       15  lr=.001  tanh\n",
    "\n",
    ".71267605 .70672317 .70104696  172 219 115  AdamW   /   200 100 50 10 3   2  lr=.001  gelu\n",
    ".73239436 .73514107 .71769742  170 235 115  AdamW   /   200 100 50 10 3   4  lr=.001  gelu\n",
    ".72957746 .72578571 .72210928  180 213 125  AdamW   /   200 100 50 10 3   6  lr=.001  gelu\n",
    ".73098591 .72650338 .71803638  183 222 114  AdamW   /   200 100 50 10 3   8  lr=.001  gelu\n",
    ".72535211 .72356368 .71844868  170 217 128  AdamW   /   200 100 50 10 3  10  lr=.001  gelu\n",
    ".73521126 .73416027 .73060146  170 217 135  AdamW   /   200 100 50 10 3  15  lr=.001  gelu\n",
    ".72816901 .72257897 .72137602  183 209 125  AdamW   /   200 100 50 10 3  20  lr=.001  gelu\n",
    ".72676056 .73050604 .72551494  164 211 141  AdamW   /   200 100 50 10 3  25  lr=.001  gelu\n",
    "\n",
    ".60634920 .43402997 .55468008  215 167   0  AdamW  LOF  200 100 50 10 3  10  lr=.001  relu\n",
    ".72380952 .74413987 .69950558  202 179  75  AdamW  LOF  200 100 50 10 3  15  lr=.001  relu\n",
    ".62380952 .74634029 .59336458  221 126  46  AdamW  LOF  200 100 50 10 3   5  lr=.001  gelu\n",
    ".58253968 .68958977 .55505680  216 106  45  AdamW  LOF  200 100 50 10 3  10  lr=.001  gelu\n",
    ".60476190 .75503580 .57046015  222 124  35  AdamW  LOF  200 100 50 10 3  15  lr=.001  gelu\n",
    ".66031746 .70950818 .62125433  168 214  34  AdamW  LOF  200 100 50 10 3   5  lr=.001  tanh\n",
    ".70158730 .71377457 .70376210  132 186 124  AdamW  LOF  200 100 50 10 3  10  lr=.001  tanh\n",
    ".58253968 .72297925 .55945593  223  90  54  AdamW  LOF  200 100 50 10 3  10  lr=.001  tanh\n",
    "\n",
    ".69436619 .68575762 .68467514  178 203 112  AdamW   /   200 100 50 10 3  10  lr=.001  tanh\n",
    ".72112676 .71683019 .71201186  182 211 119  AdamW   /   150 100 20  3     5  lr=.001  tanh\n",
    ".72253521 .72552228 .70504489  180 229 104  AdamW   /   150 100 20  3    10  lr=.001  tanh\n",
    ".73098591 .72572215 .71851524  186 219 114  AdamW   /   150 100 20  3    15  lr=.001  tanh\n",
    "\n",
    ".62253521 .41762818 .56991644  214 228   0  Adam    /   150 100 20  3    10  lr=.001  tanh\n",
    ".62253521 .41712290 .56959720  212 230  75  Adam    /   150 100 20  3    15  lr=.001  tanh\n",
    "\n",
    ".62816901 .41884428 .57284948  202 244   0  Adagrad /   200 100 50 10 3  10  lr=.001  tanh\n",
    ".60563380 .40754160 .55393440  205 225   0  Adagrad /   200 100 50 10 3  15  lr=.001  tanh\n",
    "\n",
    "</pre>"
   ]
  },
  {
   "cell_type": "markdown",
   "id": "3129f71c",
   "metadata": {},
   "source": [
    "<br/>"
   ]
  }
 ],
 "metadata": {
  "kernelspec": {
   "display_name": "Python 3 (ipykernel)",
   "language": "python",
   "name": "python3"
  },
  "language_info": {
   "codemirror_mode": {
    "name": "ipython",
    "version": 3
   },
   "file_extension": ".py",
   "mimetype": "text/x-python",
   "name": "python",
   "nbconvert_exporter": "python",
   "pygments_lexer": "ipython3",
   "version": "3.9.7"
  }
 },
 "nbformat": 4,
 "nbformat_minor": 5
}
